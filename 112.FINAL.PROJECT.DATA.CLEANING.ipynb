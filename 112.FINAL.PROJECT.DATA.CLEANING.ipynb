{
  "nbformat": 4,
  "nbformat_minor": 0,
  "metadata": {
    "colab": {
      "provenance": []
    },
    "kernelspec": {
      "name": "python3",
      "display_name": "Python 3"
    },
    "language_info": {
      "name": "python"
    }
  },
  "cells": [
    {
      "cell_type": "code",
      "execution_count": 1,
      "metadata": {
        "id": "sPdrrmYl7Rgx"
      },
      "outputs": [],
      "source": [
        "import pandas as pd\n",
        "import numpy as np"
      ]
    },
    {
      "cell_type": "code",
      "source": [
        "df=pd.read_excel(\"Fraud-Detection.xlsx\")\n",
        "df.head()#The column names were printed as if they were first index, second row.\n",
        "#They were represented as values. Also, the fraud detection dataset explanation is useless."
      ],
      "metadata": {
        "colab": {
          "base_uri": "https://localhost:8080/",
          "height": 513
        },
        "id": "RmEikA-I7cNQ",
        "outputId": "b24947d3-8710-49c9-d5dc-5909f9a23bb9"
      },
      "execution_count": 2,
      "outputs": [
        {
          "output_type": "execute_result",
          "data": {
            "text/plain": [
              "  Fraud Detection Dataset : This dataset consists of  transactions made by credit card or debit card between 2012 and 2020 February  \\\n",
              "0                                                NaN                                                                                  \n",
              "1                                                 ID                                                                                  \n",
              "2                                                  1                                                                                  \n",
              "3                                                  2                                                                                  \n",
              "4                                                  3                                                                                  \n",
              "\n",
              "  Unnamed: 1 Unnamed: 2        Unnamed: 3         Unnamed: 4  \\\n",
              "0        NaN        NaN               NaN                NaN   \n",
              "1      Month     **YEAR  Transaction_Type  Merchant_Category   \n",
              "2        Jan       2012   Online Purchase        Electronics   \n",
              "3        Feb       2012    ATM Withdrawal          Groceries   \n",
              "4        Mar       2012   Online Purchase              Books   \n",
              "\n",
              "           Unnamed: 5 Unnamed: 6       Unnamed: 7 Unnamed: 8  \\\n",
              "0                 NaN        NaN              NaN        NaN   \n",
              "1  Transaction_Amount  Card_Type         Location   Distance   \n",
              "2                1200     Credit         New York          5   \n",
              "3                 350      Debit      Los Angeles         10   \n",
              "4                  75     Credit   San Francisco          15   \n",
              "\n",
              "                           Unnamed: 9                    Unnamed: 10  \\\n",
              "0                                 NaN                            NaN   \n",
              "1  has the transaction been approved?  What is the age of the user?    \n",
              "2                            Approved                             32   \n",
              "3                            Declined                             45   \n",
              "4                            Approved                             28   \n",
              "\n",
              "       Unnamed: 11 Unnamed: 12  \n",
              "0              NaN         NaN  \n",
              "1  Account_Balance      *FRAUD  \n",
              "2             3000          No  \n",
              "3             1500          No  \n",
              "4              500          No  "
            ],
            "text/html": [
              "\n",
              "  <div id=\"df-bc34cf26-e00f-482a-9536-576637ccb152\" class=\"colab-df-container\">\n",
              "    <div>\n",
              "<style scoped>\n",
              "    .dataframe tbody tr th:only-of-type {\n",
              "        vertical-align: middle;\n",
              "    }\n",
              "\n",
              "    .dataframe tbody tr th {\n",
              "        vertical-align: top;\n",
              "    }\n",
              "\n",
              "    .dataframe thead th {\n",
              "        text-align: right;\n",
              "    }\n",
              "</style>\n",
              "<table border=\"1\" class=\"dataframe\">\n",
              "  <thead>\n",
              "    <tr style=\"text-align: right;\">\n",
              "      <th></th>\n",
              "      <th>Fraud Detection Dataset : This dataset consists of  transactions made by credit card or debit card between 2012 and 2020 February</th>\n",
              "      <th>Unnamed: 1</th>\n",
              "      <th>Unnamed: 2</th>\n",
              "      <th>Unnamed: 3</th>\n",
              "      <th>Unnamed: 4</th>\n",
              "      <th>Unnamed: 5</th>\n",
              "      <th>Unnamed: 6</th>\n",
              "      <th>Unnamed: 7</th>\n",
              "      <th>Unnamed: 8</th>\n",
              "      <th>Unnamed: 9</th>\n",
              "      <th>Unnamed: 10</th>\n",
              "      <th>Unnamed: 11</th>\n",
              "      <th>Unnamed: 12</th>\n",
              "    </tr>\n",
              "  </thead>\n",
              "  <tbody>\n",
              "    <tr>\n",
              "      <th>0</th>\n",
              "      <td>NaN</td>\n",
              "      <td>NaN</td>\n",
              "      <td>NaN</td>\n",
              "      <td>NaN</td>\n",
              "      <td>NaN</td>\n",
              "      <td>NaN</td>\n",
              "      <td>NaN</td>\n",
              "      <td>NaN</td>\n",
              "      <td>NaN</td>\n",
              "      <td>NaN</td>\n",
              "      <td>NaN</td>\n",
              "      <td>NaN</td>\n",
              "      <td>NaN</td>\n",
              "    </tr>\n",
              "    <tr>\n",
              "      <th>1</th>\n",
              "      <td>ID</td>\n",
              "      <td>Month</td>\n",
              "      <td>**YEAR</td>\n",
              "      <td>Transaction_Type</td>\n",
              "      <td>Merchant_Category</td>\n",
              "      <td>Transaction_Amount</td>\n",
              "      <td>Card_Type</td>\n",
              "      <td>Location</td>\n",
              "      <td>Distance</td>\n",
              "      <td>has the transaction been approved?</td>\n",
              "      <td>What is the age of the user?</td>\n",
              "      <td>Account_Balance</td>\n",
              "      <td>*FRAUD</td>\n",
              "    </tr>\n",
              "    <tr>\n",
              "      <th>2</th>\n",
              "      <td>1</td>\n",
              "      <td>Jan</td>\n",
              "      <td>2012</td>\n",
              "      <td>Online Purchase</td>\n",
              "      <td>Electronics</td>\n",
              "      <td>1200</td>\n",
              "      <td>Credit</td>\n",
              "      <td>New York</td>\n",
              "      <td>5</td>\n",
              "      <td>Approved</td>\n",
              "      <td>32</td>\n",
              "      <td>3000</td>\n",
              "      <td>No</td>\n",
              "    </tr>\n",
              "    <tr>\n",
              "      <th>3</th>\n",
              "      <td>2</td>\n",
              "      <td>Feb</td>\n",
              "      <td>2012</td>\n",
              "      <td>ATM Withdrawal</td>\n",
              "      <td>Groceries</td>\n",
              "      <td>350</td>\n",
              "      <td>Debit</td>\n",
              "      <td>Los Angeles</td>\n",
              "      <td>10</td>\n",
              "      <td>Declined</td>\n",
              "      <td>45</td>\n",
              "      <td>1500</td>\n",
              "      <td>No</td>\n",
              "    </tr>\n",
              "    <tr>\n",
              "      <th>4</th>\n",
              "      <td>3</td>\n",
              "      <td>Mar</td>\n",
              "      <td>2012</td>\n",
              "      <td>Online Purchase</td>\n",
              "      <td>Books</td>\n",
              "      <td>75</td>\n",
              "      <td>Credit</td>\n",
              "      <td>San Francisco</td>\n",
              "      <td>15</td>\n",
              "      <td>Approved</td>\n",
              "      <td>28</td>\n",
              "      <td>500</td>\n",
              "      <td>No</td>\n",
              "    </tr>\n",
              "  </tbody>\n",
              "</table>\n",
              "</div>\n",
              "    <div class=\"colab-df-buttons\">\n",
              "\n",
              "  <div class=\"colab-df-container\">\n",
              "    <button class=\"colab-df-convert\" onclick=\"convertToInteractive('df-bc34cf26-e00f-482a-9536-576637ccb152')\"\n",
              "            title=\"Convert this dataframe to an interactive table.\"\n",
              "            style=\"display:none;\">\n",
              "\n",
              "  <svg xmlns=\"http://www.w3.org/2000/svg\" height=\"24px\" viewBox=\"0 -960 960 960\">\n",
              "    <path d=\"M120-120v-720h720v720H120Zm60-500h600v-160H180v160Zm220 220h160v-160H400v160Zm0 220h160v-160H400v160ZM180-400h160v-160H180v160Zm440 0h160v-160H620v160ZM180-180h160v-160H180v160Zm440 0h160v-160H620v160Z\"/>\n",
              "  </svg>\n",
              "    </button>\n",
              "\n",
              "  <style>\n",
              "    .colab-df-container {\n",
              "      display:flex;\n",
              "      gap: 12px;\n",
              "    }\n",
              "\n",
              "    .colab-df-convert {\n",
              "      background-color: #E8F0FE;\n",
              "      border: none;\n",
              "      border-radius: 50%;\n",
              "      cursor: pointer;\n",
              "      display: none;\n",
              "      fill: #1967D2;\n",
              "      height: 32px;\n",
              "      padding: 0 0 0 0;\n",
              "      width: 32px;\n",
              "    }\n",
              "\n",
              "    .colab-df-convert:hover {\n",
              "      background-color: #E2EBFA;\n",
              "      box-shadow: 0px 1px 2px rgba(60, 64, 67, 0.3), 0px 1px 3px 1px rgba(60, 64, 67, 0.15);\n",
              "      fill: #174EA6;\n",
              "    }\n",
              "\n",
              "    .colab-df-buttons div {\n",
              "      margin-bottom: 4px;\n",
              "    }\n",
              "\n",
              "    [theme=dark] .colab-df-convert {\n",
              "      background-color: #3B4455;\n",
              "      fill: #D2E3FC;\n",
              "    }\n",
              "\n",
              "    [theme=dark] .colab-df-convert:hover {\n",
              "      background-color: #434B5C;\n",
              "      box-shadow: 0px 1px 3px 1px rgba(0, 0, 0, 0.15);\n",
              "      filter: drop-shadow(0px 1px 2px rgba(0, 0, 0, 0.3));\n",
              "      fill: #FFFFFF;\n",
              "    }\n",
              "  </style>\n",
              "\n",
              "    <script>\n",
              "      const buttonEl =\n",
              "        document.querySelector('#df-bc34cf26-e00f-482a-9536-576637ccb152 button.colab-df-convert');\n",
              "      buttonEl.style.display =\n",
              "        google.colab.kernel.accessAllowed ? 'block' : 'none';\n",
              "\n",
              "      async function convertToInteractive(key) {\n",
              "        const element = document.querySelector('#df-bc34cf26-e00f-482a-9536-576637ccb152');\n",
              "        const dataTable =\n",
              "          await google.colab.kernel.invokeFunction('convertToInteractive',\n",
              "                                                    [key], {});\n",
              "        if (!dataTable) return;\n",
              "\n",
              "        const docLinkHtml = 'Like what you see? Visit the ' +\n",
              "          '<a target=\"_blank\" href=https://colab.research.google.com/notebooks/data_table.ipynb>data table notebook</a>'\n",
              "          + ' to learn more about interactive tables.';\n",
              "        element.innerHTML = '';\n",
              "        dataTable['output_type'] = 'display_data';\n",
              "        await google.colab.output.renderOutput(dataTable, element);\n",
              "        const docLink = document.createElement('div');\n",
              "        docLink.innerHTML = docLinkHtml;\n",
              "        element.appendChild(docLink);\n",
              "      }\n",
              "    </script>\n",
              "  </div>\n",
              "\n",
              "\n",
              "<div id=\"df-0ed5f944-57c0-4fd4-87f4-82aa940de85f\">\n",
              "  <button class=\"colab-df-quickchart\" onclick=\"quickchart('df-0ed5f944-57c0-4fd4-87f4-82aa940de85f')\"\n",
              "            title=\"Suggest charts\"\n",
              "            style=\"display:none;\">\n",
              "\n",
              "<svg xmlns=\"http://www.w3.org/2000/svg\" height=\"24px\"viewBox=\"0 0 24 24\"\n",
              "     width=\"24px\">\n",
              "    <g>\n",
              "        <path d=\"M19 3H5c-1.1 0-2 .9-2 2v14c0 1.1.9 2 2 2h14c1.1 0 2-.9 2-2V5c0-1.1-.9-2-2-2zM9 17H7v-7h2v7zm4 0h-2V7h2v10zm4 0h-2v-4h2v4z\"/>\n",
              "    </g>\n",
              "</svg>\n",
              "  </button>\n",
              "\n",
              "<style>\n",
              "  .colab-df-quickchart {\n",
              "      --bg-color: #E8F0FE;\n",
              "      --fill-color: #1967D2;\n",
              "      --hover-bg-color: #E2EBFA;\n",
              "      --hover-fill-color: #174EA6;\n",
              "      --disabled-fill-color: #AAA;\n",
              "      --disabled-bg-color: #DDD;\n",
              "  }\n",
              "\n",
              "  [theme=dark] .colab-df-quickchart {\n",
              "      --bg-color: #3B4455;\n",
              "      --fill-color: #D2E3FC;\n",
              "      --hover-bg-color: #434B5C;\n",
              "      --hover-fill-color: #FFFFFF;\n",
              "      --disabled-bg-color: #3B4455;\n",
              "      --disabled-fill-color: #666;\n",
              "  }\n",
              "\n",
              "  .colab-df-quickchart {\n",
              "    background-color: var(--bg-color);\n",
              "    border: none;\n",
              "    border-radius: 50%;\n",
              "    cursor: pointer;\n",
              "    display: none;\n",
              "    fill: var(--fill-color);\n",
              "    height: 32px;\n",
              "    padding: 0;\n",
              "    width: 32px;\n",
              "  }\n",
              "\n",
              "  .colab-df-quickchart:hover {\n",
              "    background-color: var(--hover-bg-color);\n",
              "    box-shadow: 0 1px 2px rgba(60, 64, 67, 0.3), 0 1px 3px 1px rgba(60, 64, 67, 0.15);\n",
              "    fill: var(--button-hover-fill-color);\n",
              "  }\n",
              "\n",
              "  .colab-df-quickchart-complete:disabled,\n",
              "  .colab-df-quickchart-complete:disabled:hover {\n",
              "    background-color: var(--disabled-bg-color);\n",
              "    fill: var(--disabled-fill-color);\n",
              "    box-shadow: none;\n",
              "  }\n",
              "\n",
              "  .colab-df-spinner {\n",
              "    border: 2px solid var(--fill-color);\n",
              "    border-color: transparent;\n",
              "    border-bottom-color: var(--fill-color);\n",
              "    animation:\n",
              "      spin 1s steps(1) infinite;\n",
              "  }\n",
              "\n",
              "  @keyframes spin {\n",
              "    0% {\n",
              "      border-color: transparent;\n",
              "      border-bottom-color: var(--fill-color);\n",
              "      border-left-color: var(--fill-color);\n",
              "    }\n",
              "    20% {\n",
              "      border-color: transparent;\n",
              "      border-left-color: var(--fill-color);\n",
              "      border-top-color: var(--fill-color);\n",
              "    }\n",
              "    30% {\n",
              "      border-color: transparent;\n",
              "      border-left-color: var(--fill-color);\n",
              "      border-top-color: var(--fill-color);\n",
              "      border-right-color: var(--fill-color);\n",
              "    }\n",
              "    40% {\n",
              "      border-color: transparent;\n",
              "      border-right-color: var(--fill-color);\n",
              "      border-top-color: var(--fill-color);\n",
              "    }\n",
              "    60% {\n",
              "      border-color: transparent;\n",
              "      border-right-color: var(--fill-color);\n",
              "    }\n",
              "    80% {\n",
              "      border-color: transparent;\n",
              "      border-right-color: var(--fill-color);\n",
              "      border-bottom-color: var(--fill-color);\n",
              "    }\n",
              "    90% {\n",
              "      border-color: transparent;\n",
              "      border-bottom-color: var(--fill-color);\n",
              "    }\n",
              "  }\n",
              "</style>\n",
              "\n",
              "  <script>\n",
              "    async function quickchart(key) {\n",
              "      const quickchartButtonEl =\n",
              "        document.querySelector('#' + key + ' button');\n",
              "      quickchartButtonEl.disabled = true;  // To prevent multiple clicks.\n",
              "      quickchartButtonEl.classList.add('colab-df-spinner');\n",
              "      try {\n",
              "        const charts = await google.colab.kernel.invokeFunction(\n",
              "            'suggestCharts', [key], {});\n",
              "      } catch (error) {\n",
              "        console.error('Error during call to suggestCharts:', error);\n",
              "      }\n",
              "      quickchartButtonEl.classList.remove('colab-df-spinner');\n",
              "      quickchartButtonEl.classList.add('colab-df-quickchart-complete');\n",
              "    }\n",
              "    (() => {\n",
              "      let quickchartButtonEl =\n",
              "        document.querySelector('#df-0ed5f944-57c0-4fd4-87f4-82aa940de85f button');\n",
              "      quickchartButtonEl.style.display =\n",
              "        google.colab.kernel.accessAllowed ? 'block' : 'none';\n",
              "    })();\n",
              "  </script>\n",
              "</div>\n",
              "\n",
              "    </div>\n",
              "  </div>\n"
            ]
          },
          "metadata": {},
          "execution_count": 2
        }
      ]
    },
    {
      "cell_type": "markdown",
      "source": [
        "**1-COLUMNS NAME REPRESENTED AS VARIABLES**"
      ],
      "metadata": {
        "id": "ojJHXDlvERz7"
      }
    },
    {
      "cell_type": "code",
      "source": [
        "df = pd.read_excel('Fraud-Detection.xlsx', header=2)#To remove the unnecessary explanation and nan values at the 0.index, header=2 function was used. To use the third row in the Excel file as column names, the first two rows should be skipped.\n",
        "df.head()"
      ],
      "metadata": {
        "colab": {
          "base_uri": "https://localhost:8080/",
          "height": 360
        },
        "id": "9AvckORA7ekv",
        "outputId": "2ad4b996-502c-4c28-97ee-586951a25117"
      },
      "execution_count": 3,
      "outputs": [
        {
          "output_type": "execute_result",
          "data": {
            "text/plain": [
              "   ID Month  **YEAR Transaction_Type Merchant_Category  Transaction_Amount  \\\n",
              "0   1   Jan    2012  Online Purchase       Electronics              1200.0   \n",
              "1   2   Feb    2012   ATM Withdrawal         Groceries               350.0   \n",
              "2   3   Mar    2012  Online Purchase             Books                75.0   \n",
              "3   4   Apr    2012      POS Payment          Clothing                50.0   \n",
              "4   5   May    2012  Online Purchase       Electronics               900.0   \n",
              "\n",
              "  Card_Type         Location  Distance has the transaction been approved?  \\\n",
              "0    Credit         New York       5.0                           Approved   \n",
              "1     Debit      Los Angeles      10.0                           Declined   \n",
              "2    Credit   San Francisco       15.0                           Approved   \n",
              "3    credit          Chicago       2.0                           Approved   \n",
              "4    Credit         New York       7.0                           Approved   \n",
              "\n",
              "   What is the age of the user?   Account_Balance *FRAUD  \n",
              "0                           32.0           3000.0     No  \n",
              "1                           45.0           1500.0     No  \n",
              "2                           28.0            500.0     No  \n",
              "3                           36.0           2000.0    Yes  \n",
              "4                           40.0           2500.0     No  "
            ],
            "text/html": [
              "\n",
              "  <div id=\"df-da31a93b-6993-4be3-8b76-466636fd1a50\" class=\"colab-df-container\">\n",
              "    <div>\n",
              "<style scoped>\n",
              "    .dataframe tbody tr th:only-of-type {\n",
              "        vertical-align: middle;\n",
              "    }\n",
              "\n",
              "    .dataframe tbody tr th {\n",
              "        vertical-align: top;\n",
              "    }\n",
              "\n",
              "    .dataframe thead th {\n",
              "        text-align: right;\n",
              "    }\n",
              "</style>\n",
              "<table border=\"1\" class=\"dataframe\">\n",
              "  <thead>\n",
              "    <tr style=\"text-align: right;\">\n",
              "      <th></th>\n",
              "      <th>ID</th>\n",
              "      <th>Month</th>\n",
              "      <th>**YEAR</th>\n",
              "      <th>Transaction_Type</th>\n",
              "      <th>Merchant_Category</th>\n",
              "      <th>Transaction_Amount</th>\n",
              "      <th>Card_Type</th>\n",
              "      <th>Location</th>\n",
              "      <th>Distance</th>\n",
              "      <th>has the transaction been approved?</th>\n",
              "      <th>What is the age of the user?</th>\n",
              "      <th>Account_Balance</th>\n",
              "      <th>*FRAUD</th>\n",
              "    </tr>\n",
              "  </thead>\n",
              "  <tbody>\n",
              "    <tr>\n",
              "      <th>0</th>\n",
              "      <td>1</td>\n",
              "      <td>Jan</td>\n",
              "      <td>2012</td>\n",
              "      <td>Online Purchase</td>\n",
              "      <td>Electronics</td>\n",
              "      <td>1200.0</td>\n",
              "      <td>Credit</td>\n",
              "      <td>New York</td>\n",
              "      <td>5.0</td>\n",
              "      <td>Approved</td>\n",
              "      <td>32.0</td>\n",
              "      <td>3000.0</td>\n",
              "      <td>No</td>\n",
              "    </tr>\n",
              "    <tr>\n",
              "      <th>1</th>\n",
              "      <td>2</td>\n",
              "      <td>Feb</td>\n",
              "      <td>2012</td>\n",
              "      <td>ATM Withdrawal</td>\n",
              "      <td>Groceries</td>\n",
              "      <td>350.0</td>\n",
              "      <td>Debit</td>\n",
              "      <td>Los Angeles</td>\n",
              "      <td>10.0</td>\n",
              "      <td>Declined</td>\n",
              "      <td>45.0</td>\n",
              "      <td>1500.0</td>\n",
              "      <td>No</td>\n",
              "    </tr>\n",
              "    <tr>\n",
              "      <th>2</th>\n",
              "      <td>3</td>\n",
              "      <td>Mar</td>\n",
              "      <td>2012</td>\n",
              "      <td>Online Purchase</td>\n",
              "      <td>Books</td>\n",
              "      <td>75.0</td>\n",
              "      <td>Credit</td>\n",
              "      <td>San Francisco</td>\n",
              "      <td>15.0</td>\n",
              "      <td>Approved</td>\n",
              "      <td>28.0</td>\n",
              "      <td>500.0</td>\n",
              "      <td>No</td>\n",
              "    </tr>\n",
              "    <tr>\n",
              "      <th>3</th>\n",
              "      <td>4</td>\n",
              "      <td>Apr</td>\n",
              "      <td>2012</td>\n",
              "      <td>POS Payment</td>\n",
              "      <td>Clothing</td>\n",
              "      <td>50.0</td>\n",
              "      <td>credit</td>\n",
              "      <td>Chicago</td>\n",
              "      <td>2.0</td>\n",
              "      <td>Approved</td>\n",
              "      <td>36.0</td>\n",
              "      <td>2000.0</td>\n",
              "      <td>Yes</td>\n",
              "    </tr>\n",
              "    <tr>\n",
              "      <th>4</th>\n",
              "      <td>5</td>\n",
              "      <td>May</td>\n",
              "      <td>2012</td>\n",
              "      <td>Online Purchase</td>\n",
              "      <td>Electronics</td>\n",
              "      <td>900.0</td>\n",
              "      <td>Credit</td>\n",
              "      <td>New York</td>\n",
              "      <td>7.0</td>\n",
              "      <td>Approved</td>\n",
              "      <td>40.0</td>\n",
              "      <td>2500.0</td>\n",
              "      <td>No</td>\n",
              "    </tr>\n",
              "  </tbody>\n",
              "</table>\n",
              "</div>\n",
              "    <div class=\"colab-df-buttons\">\n",
              "\n",
              "  <div class=\"colab-df-container\">\n",
              "    <button class=\"colab-df-convert\" onclick=\"convertToInteractive('df-da31a93b-6993-4be3-8b76-466636fd1a50')\"\n",
              "            title=\"Convert this dataframe to an interactive table.\"\n",
              "            style=\"display:none;\">\n",
              "\n",
              "  <svg xmlns=\"http://www.w3.org/2000/svg\" height=\"24px\" viewBox=\"0 -960 960 960\">\n",
              "    <path d=\"M120-120v-720h720v720H120Zm60-500h600v-160H180v160Zm220 220h160v-160H400v160Zm0 220h160v-160H400v160ZM180-400h160v-160H180v160Zm440 0h160v-160H620v160ZM180-180h160v-160H180v160Zm440 0h160v-160H620v160Z\"/>\n",
              "  </svg>\n",
              "    </button>\n",
              "\n",
              "  <style>\n",
              "    .colab-df-container {\n",
              "      display:flex;\n",
              "      gap: 12px;\n",
              "    }\n",
              "\n",
              "    .colab-df-convert {\n",
              "      background-color: #E8F0FE;\n",
              "      border: none;\n",
              "      border-radius: 50%;\n",
              "      cursor: pointer;\n",
              "      display: none;\n",
              "      fill: #1967D2;\n",
              "      height: 32px;\n",
              "      padding: 0 0 0 0;\n",
              "      width: 32px;\n",
              "    }\n",
              "\n",
              "    .colab-df-convert:hover {\n",
              "      background-color: #E2EBFA;\n",
              "      box-shadow: 0px 1px 2px rgba(60, 64, 67, 0.3), 0px 1px 3px 1px rgba(60, 64, 67, 0.15);\n",
              "      fill: #174EA6;\n",
              "    }\n",
              "\n",
              "    .colab-df-buttons div {\n",
              "      margin-bottom: 4px;\n",
              "    }\n",
              "\n",
              "    [theme=dark] .colab-df-convert {\n",
              "      background-color: #3B4455;\n",
              "      fill: #D2E3FC;\n",
              "    }\n",
              "\n",
              "    [theme=dark] .colab-df-convert:hover {\n",
              "      background-color: #434B5C;\n",
              "      box-shadow: 0px 1px 3px 1px rgba(0, 0, 0, 0.15);\n",
              "      filter: drop-shadow(0px 1px 2px rgba(0, 0, 0, 0.3));\n",
              "      fill: #FFFFFF;\n",
              "    }\n",
              "  </style>\n",
              "\n",
              "    <script>\n",
              "      const buttonEl =\n",
              "        document.querySelector('#df-da31a93b-6993-4be3-8b76-466636fd1a50 button.colab-df-convert');\n",
              "      buttonEl.style.display =\n",
              "        google.colab.kernel.accessAllowed ? 'block' : 'none';\n",
              "\n",
              "      async function convertToInteractive(key) {\n",
              "        const element = document.querySelector('#df-da31a93b-6993-4be3-8b76-466636fd1a50');\n",
              "        const dataTable =\n",
              "          await google.colab.kernel.invokeFunction('convertToInteractive',\n",
              "                                                    [key], {});\n",
              "        if (!dataTable) return;\n",
              "\n",
              "        const docLinkHtml = 'Like what you see? Visit the ' +\n",
              "          '<a target=\"_blank\" href=https://colab.research.google.com/notebooks/data_table.ipynb>data table notebook</a>'\n",
              "          + ' to learn more about interactive tables.';\n",
              "        element.innerHTML = '';\n",
              "        dataTable['output_type'] = 'display_data';\n",
              "        await google.colab.output.renderOutput(dataTable, element);\n",
              "        const docLink = document.createElement('div');\n",
              "        docLink.innerHTML = docLinkHtml;\n",
              "        element.appendChild(docLink);\n",
              "      }\n",
              "    </script>\n",
              "  </div>\n",
              "\n",
              "\n",
              "<div id=\"df-e3802fb5-4a9d-45b7-a9d1-38d21ab2ca3b\">\n",
              "  <button class=\"colab-df-quickchart\" onclick=\"quickchart('df-e3802fb5-4a9d-45b7-a9d1-38d21ab2ca3b')\"\n",
              "            title=\"Suggest charts\"\n",
              "            style=\"display:none;\">\n",
              "\n",
              "<svg xmlns=\"http://www.w3.org/2000/svg\" height=\"24px\"viewBox=\"0 0 24 24\"\n",
              "     width=\"24px\">\n",
              "    <g>\n",
              "        <path d=\"M19 3H5c-1.1 0-2 .9-2 2v14c0 1.1.9 2 2 2h14c1.1 0 2-.9 2-2V5c0-1.1-.9-2-2-2zM9 17H7v-7h2v7zm4 0h-2V7h2v10zm4 0h-2v-4h2v4z\"/>\n",
              "    </g>\n",
              "</svg>\n",
              "  </button>\n",
              "\n",
              "<style>\n",
              "  .colab-df-quickchart {\n",
              "      --bg-color: #E8F0FE;\n",
              "      --fill-color: #1967D2;\n",
              "      --hover-bg-color: #E2EBFA;\n",
              "      --hover-fill-color: #174EA6;\n",
              "      --disabled-fill-color: #AAA;\n",
              "      --disabled-bg-color: #DDD;\n",
              "  }\n",
              "\n",
              "  [theme=dark] .colab-df-quickchart {\n",
              "      --bg-color: #3B4455;\n",
              "      --fill-color: #D2E3FC;\n",
              "      --hover-bg-color: #434B5C;\n",
              "      --hover-fill-color: #FFFFFF;\n",
              "      --disabled-bg-color: #3B4455;\n",
              "      --disabled-fill-color: #666;\n",
              "  }\n",
              "\n",
              "  .colab-df-quickchart {\n",
              "    background-color: var(--bg-color);\n",
              "    border: none;\n",
              "    border-radius: 50%;\n",
              "    cursor: pointer;\n",
              "    display: none;\n",
              "    fill: var(--fill-color);\n",
              "    height: 32px;\n",
              "    padding: 0;\n",
              "    width: 32px;\n",
              "  }\n",
              "\n",
              "  .colab-df-quickchart:hover {\n",
              "    background-color: var(--hover-bg-color);\n",
              "    box-shadow: 0 1px 2px rgba(60, 64, 67, 0.3), 0 1px 3px 1px rgba(60, 64, 67, 0.15);\n",
              "    fill: var(--button-hover-fill-color);\n",
              "  }\n",
              "\n",
              "  .colab-df-quickchart-complete:disabled,\n",
              "  .colab-df-quickchart-complete:disabled:hover {\n",
              "    background-color: var(--disabled-bg-color);\n",
              "    fill: var(--disabled-fill-color);\n",
              "    box-shadow: none;\n",
              "  }\n",
              "\n",
              "  .colab-df-spinner {\n",
              "    border: 2px solid var(--fill-color);\n",
              "    border-color: transparent;\n",
              "    border-bottom-color: var(--fill-color);\n",
              "    animation:\n",
              "      spin 1s steps(1) infinite;\n",
              "  }\n",
              "\n",
              "  @keyframes spin {\n",
              "    0% {\n",
              "      border-color: transparent;\n",
              "      border-bottom-color: var(--fill-color);\n",
              "      border-left-color: var(--fill-color);\n",
              "    }\n",
              "    20% {\n",
              "      border-color: transparent;\n",
              "      border-left-color: var(--fill-color);\n",
              "      border-top-color: var(--fill-color);\n",
              "    }\n",
              "    30% {\n",
              "      border-color: transparent;\n",
              "      border-left-color: var(--fill-color);\n",
              "      border-top-color: var(--fill-color);\n",
              "      border-right-color: var(--fill-color);\n",
              "    }\n",
              "    40% {\n",
              "      border-color: transparent;\n",
              "      border-right-color: var(--fill-color);\n",
              "      border-top-color: var(--fill-color);\n",
              "    }\n",
              "    60% {\n",
              "      border-color: transparent;\n",
              "      border-right-color: var(--fill-color);\n",
              "    }\n",
              "    80% {\n",
              "      border-color: transparent;\n",
              "      border-right-color: var(--fill-color);\n",
              "      border-bottom-color: var(--fill-color);\n",
              "    }\n",
              "    90% {\n",
              "      border-color: transparent;\n",
              "      border-bottom-color: var(--fill-color);\n",
              "    }\n",
              "  }\n",
              "</style>\n",
              "\n",
              "  <script>\n",
              "    async function quickchart(key) {\n",
              "      const quickchartButtonEl =\n",
              "        document.querySelector('#' + key + ' button');\n",
              "      quickchartButtonEl.disabled = true;  // To prevent multiple clicks.\n",
              "      quickchartButtonEl.classList.add('colab-df-spinner');\n",
              "      try {\n",
              "        const charts = await google.colab.kernel.invokeFunction(\n",
              "            'suggestCharts', [key], {});\n",
              "      } catch (error) {\n",
              "        console.error('Error during call to suggestCharts:', error);\n",
              "      }\n",
              "      quickchartButtonEl.classList.remove('colab-df-spinner');\n",
              "      quickchartButtonEl.classList.add('colab-df-quickchart-complete');\n",
              "    }\n",
              "    (() => {\n",
              "      let quickchartButtonEl =\n",
              "        document.querySelector('#df-e3802fb5-4a9d-45b7-a9d1-38d21ab2ca3b button');\n",
              "      quickchartButtonEl.style.display =\n",
              "        google.colab.kernel.accessAllowed ? 'block' : 'none';\n",
              "    })();\n",
              "  </script>\n",
              "</div>\n",
              "\n",
              "    </div>\n",
              "  </div>\n"
            ]
          },
          "metadata": {},
          "execution_count": 3
        }
      ]
    },
    {
      "cell_type": "code",
      "source": [
        "df.tail()"
      ],
      "metadata": {
        "colab": {
          "base_uri": "https://localhost:8080/",
          "height": 377
        },
        "id": "LTTER1rI7gZO",
        "outputId": "11a3ae47-cc7e-4797-f9ed-df7af1e91804"
      },
      "execution_count": 4,
      "outputs": [
        {
          "output_type": "execute_result",
          "data": {
            "text/plain": [
              "    ID Month  **YEAR Transaction_Type Merchant_Category  Transaction_Amount  \\\n",
              "94  94   Oct    2019      POS Payment         Groceries               310.0   \n",
              "95  95   Nov    2019  Online Purchase          Clothing                70.0   \n",
              "96  96   Dec    2019   ATM Withdrawal             Books                40.0   \n",
              "97  97   Jan    2020      POS Payment       Electronics               910.0   \n",
              "98  98   Feb    2020  Online Purchase         Groceries               230.0   \n",
              "\n",
              "   Card_Type         Location  Distance has the transaction been approved?  \\\n",
              "94     Debit      Los Angeles      10.0                           Approved   \n",
              "95    Credit          Chicago       4.0                           Approved   \n",
              "96    Credit   San Francisco       17.0                           Declined   \n",
              "97    Credit         New York       5.0                           Approved   \n",
              "98     Debit      Los Angeles      11.0                           Approved   \n",
              "\n",
              "    What is the age of the user?   Account_Balance *FRAUD  \n",
              "94                           47.0           2000.0     no  \n",
              "95                           31.0           1100.0     no  \n",
              "96                           23.0            500.0     No  \n",
              "97                           32.0           2400.0     No  \n",
              "98                           22.0            700.0     No  "
            ],
            "text/html": [
              "\n",
              "  <div id=\"df-2e881d48-394b-43ed-a8af-204e3ee98675\" class=\"colab-df-container\">\n",
              "    <div>\n",
              "<style scoped>\n",
              "    .dataframe tbody tr th:only-of-type {\n",
              "        vertical-align: middle;\n",
              "    }\n",
              "\n",
              "    .dataframe tbody tr th {\n",
              "        vertical-align: top;\n",
              "    }\n",
              "\n",
              "    .dataframe thead th {\n",
              "        text-align: right;\n",
              "    }\n",
              "</style>\n",
              "<table border=\"1\" class=\"dataframe\">\n",
              "  <thead>\n",
              "    <tr style=\"text-align: right;\">\n",
              "      <th></th>\n",
              "      <th>ID</th>\n",
              "      <th>Month</th>\n",
              "      <th>**YEAR</th>\n",
              "      <th>Transaction_Type</th>\n",
              "      <th>Merchant_Category</th>\n",
              "      <th>Transaction_Amount</th>\n",
              "      <th>Card_Type</th>\n",
              "      <th>Location</th>\n",
              "      <th>Distance</th>\n",
              "      <th>has the transaction been approved?</th>\n",
              "      <th>What is the age of the user?</th>\n",
              "      <th>Account_Balance</th>\n",
              "      <th>*FRAUD</th>\n",
              "    </tr>\n",
              "  </thead>\n",
              "  <tbody>\n",
              "    <tr>\n",
              "      <th>94</th>\n",
              "      <td>94</td>\n",
              "      <td>Oct</td>\n",
              "      <td>2019</td>\n",
              "      <td>POS Payment</td>\n",
              "      <td>Groceries</td>\n",
              "      <td>310.0</td>\n",
              "      <td>Debit</td>\n",
              "      <td>Los Angeles</td>\n",
              "      <td>10.0</td>\n",
              "      <td>Approved</td>\n",
              "      <td>47.0</td>\n",
              "      <td>2000.0</td>\n",
              "      <td>no</td>\n",
              "    </tr>\n",
              "    <tr>\n",
              "      <th>95</th>\n",
              "      <td>95</td>\n",
              "      <td>Nov</td>\n",
              "      <td>2019</td>\n",
              "      <td>Online Purchase</td>\n",
              "      <td>Clothing</td>\n",
              "      <td>70.0</td>\n",
              "      <td>Credit</td>\n",
              "      <td>Chicago</td>\n",
              "      <td>4.0</td>\n",
              "      <td>Approved</td>\n",
              "      <td>31.0</td>\n",
              "      <td>1100.0</td>\n",
              "      <td>no</td>\n",
              "    </tr>\n",
              "    <tr>\n",
              "      <th>96</th>\n",
              "      <td>96</td>\n",
              "      <td>Dec</td>\n",
              "      <td>2019</td>\n",
              "      <td>ATM Withdrawal</td>\n",
              "      <td>Books</td>\n",
              "      <td>40.0</td>\n",
              "      <td>Credit</td>\n",
              "      <td>San Francisco</td>\n",
              "      <td>17.0</td>\n",
              "      <td>Declined</td>\n",
              "      <td>23.0</td>\n",
              "      <td>500.0</td>\n",
              "      <td>No</td>\n",
              "    </tr>\n",
              "    <tr>\n",
              "      <th>97</th>\n",
              "      <td>97</td>\n",
              "      <td>Jan</td>\n",
              "      <td>2020</td>\n",
              "      <td>POS Payment</td>\n",
              "      <td>Electronics</td>\n",
              "      <td>910.0</td>\n",
              "      <td>Credit</td>\n",
              "      <td>New York</td>\n",
              "      <td>5.0</td>\n",
              "      <td>Approved</td>\n",
              "      <td>32.0</td>\n",
              "      <td>2400.0</td>\n",
              "      <td>No</td>\n",
              "    </tr>\n",
              "    <tr>\n",
              "      <th>98</th>\n",
              "      <td>98</td>\n",
              "      <td>Feb</td>\n",
              "      <td>2020</td>\n",
              "      <td>Online Purchase</td>\n",
              "      <td>Groceries</td>\n",
              "      <td>230.0</td>\n",
              "      <td>Debit</td>\n",
              "      <td>Los Angeles</td>\n",
              "      <td>11.0</td>\n",
              "      <td>Approved</td>\n",
              "      <td>22.0</td>\n",
              "      <td>700.0</td>\n",
              "      <td>No</td>\n",
              "    </tr>\n",
              "  </tbody>\n",
              "</table>\n",
              "</div>\n",
              "    <div class=\"colab-df-buttons\">\n",
              "\n",
              "  <div class=\"colab-df-container\">\n",
              "    <button class=\"colab-df-convert\" onclick=\"convertToInteractive('df-2e881d48-394b-43ed-a8af-204e3ee98675')\"\n",
              "            title=\"Convert this dataframe to an interactive table.\"\n",
              "            style=\"display:none;\">\n",
              "\n",
              "  <svg xmlns=\"http://www.w3.org/2000/svg\" height=\"24px\" viewBox=\"0 -960 960 960\">\n",
              "    <path d=\"M120-120v-720h720v720H120Zm60-500h600v-160H180v160Zm220 220h160v-160H400v160Zm0 220h160v-160H400v160ZM180-400h160v-160H180v160Zm440 0h160v-160H620v160ZM180-180h160v-160H180v160Zm440 0h160v-160H620v160Z\"/>\n",
              "  </svg>\n",
              "    </button>\n",
              "\n",
              "  <style>\n",
              "    .colab-df-container {\n",
              "      display:flex;\n",
              "      gap: 12px;\n",
              "    }\n",
              "\n",
              "    .colab-df-convert {\n",
              "      background-color: #E8F0FE;\n",
              "      border: none;\n",
              "      border-radius: 50%;\n",
              "      cursor: pointer;\n",
              "      display: none;\n",
              "      fill: #1967D2;\n",
              "      height: 32px;\n",
              "      padding: 0 0 0 0;\n",
              "      width: 32px;\n",
              "    }\n",
              "\n",
              "    .colab-df-convert:hover {\n",
              "      background-color: #E2EBFA;\n",
              "      box-shadow: 0px 1px 2px rgba(60, 64, 67, 0.3), 0px 1px 3px 1px rgba(60, 64, 67, 0.15);\n",
              "      fill: #174EA6;\n",
              "    }\n",
              "\n",
              "    .colab-df-buttons div {\n",
              "      margin-bottom: 4px;\n",
              "    }\n",
              "\n",
              "    [theme=dark] .colab-df-convert {\n",
              "      background-color: #3B4455;\n",
              "      fill: #D2E3FC;\n",
              "    }\n",
              "\n",
              "    [theme=dark] .colab-df-convert:hover {\n",
              "      background-color: #434B5C;\n",
              "      box-shadow: 0px 1px 3px 1px rgba(0, 0, 0, 0.15);\n",
              "      filter: drop-shadow(0px 1px 2px rgba(0, 0, 0, 0.3));\n",
              "      fill: #FFFFFF;\n",
              "    }\n",
              "  </style>\n",
              "\n",
              "    <script>\n",
              "      const buttonEl =\n",
              "        document.querySelector('#df-2e881d48-394b-43ed-a8af-204e3ee98675 button.colab-df-convert');\n",
              "      buttonEl.style.display =\n",
              "        google.colab.kernel.accessAllowed ? 'block' : 'none';\n",
              "\n",
              "      async function convertToInteractive(key) {\n",
              "        const element = document.querySelector('#df-2e881d48-394b-43ed-a8af-204e3ee98675');\n",
              "        const dataTable =\n",
              "          await google.colab.kernel.invokeFunction('convertToInteractive',\n",
              "                                                    [key], {});\n",
              "        if (!dataTable) return;\n",
              "\n",
              "        const docLinkHtml = 'Like what you see? Visit the ' +\n",
              "          '<a target=\"_blank\" href=https://colab.research.google.com/notebooks/data_table.ipynb>data table notebook</a>'\n",
              "          + ' to learn more about interactive tables.';\n",
              "        element.innerHTML = '';\n",
              "        dataTable['output_type'] = 'display_data';\n",
              "        await google.colab.output.renderOutput(dataTable, element);\n",
              "        const docLink = document.createElement('div');\n",
              "        docLink.innerHTML = docLinkHtml;\n",
              "        element.appendChild(docLink);\n",
              "      }\n",
              "    </script>\n",
              "  </div>\n",
              "\n",
              "\n",
              "<div id=\"df-981106f7-0cda-4ad8-a0c6-32e0b61990f9\">\n",
              "  <button class=\"colab-df-quickchart\" onclick=\"quickchart('df-981106f7-0cda-4ad8-a0c6-32e0b61990f9')\"\n",
              "            title=\"Suggest charts\"\n",
              "            style=\"display:none;\">\n",
              "\n",
              "<svg xmlns=\"http://www.w3.org/2000/svg\" height=\"24px\"viewBox=\"0 0 24 24\"\n",
              "     width=\"24px\">\n",
              "    <g>\n",
              "        <path d=\"M19 3H5c-1.1 0-2 .9-2 2v14c0 1.1.9 2 2 2h14c1.1 0 2-.9 2-2V5c0-1.1-.9-2-2-2zM9 17H7v-7h2v7zm4 0h-2V7h2v10zm4 0h-2v-4h2v4z\"/>\n",
              "    </g>\n",
              "</svg>\n",
              "  </button>\n",
              "\n",
              "<style>\n",
              "  .colab-df-quickchart {\n",
              "      --bg-color: #E8F0FE;\n",
              "      --fill-color: #1967D2;\n",
              "      --hover-bg-color: #E2EBFA;\n",
              "      --hover-fill-color: #174EA6;\n",
              "      --disabled-fill-color: #AAA;\n",
              "      --disabled-bg-color: #DDD;\n",
              "  }\n",
              "\n",
              "  [theme=dark] .colab-df-quickchart {\n",
              "      --bg-color: #3B4455;\n",
              "      --fill-color: #D2E3FC;\n",
              "      --hover-bg-color: #434B5C;\n",
              "      --hover-fill-color: #FFFFFF;\n",
              "      --disabled-bg-color: #3B4455;\n",
              "      --disabled-fill-color: #666;\n",
              "  }\n",
              "\n",
              "  .colab-df-quickchart {\n",
              "    background-color: var(--bg-color);\n",
              "    border: none;\n",
              "    border-radius: 50%;\n",
              "    cursor: pointer;\n",
              "    display: none;\n",
              "    fill: var(--fill-color);\n",
              "    height: 32px;\n",
              "    padding: 0;\n",
              "    width: 32px;\n",
              "  }\n",
              "\n",
              "  .colab-df-quickchart:hover {\n",
              "    background-color: var(--hover-bg-color);\n",
              "    box-shadow: 0 1px 2px rgba(60, 64, 67, 0.3), 0 1px 3px 1px rgba(60, 64, 67, 0.15);\n",
              "    fill: var(--button-hover-fill-color);\n",
              "  }\n",
              "\n",
              "  .colab-df-quickchart-complete:disabled,\n",
              "  .colab-df-quickchart-complete:disabled:hover {\n",
              "    background-color: var(--disabled-bg-color);\n",
              "    fill: var(--disabled-fill-color);\n",
              "    box-shadow: none;\n",
              "  }\n",
              "\n",
              "  .colab-df-spinner {\n",
              "    border: 2px solid var(--fill-color);\n",
              "    border-color: transparent;\n",
              "    border-bottom-color: var(--fill-color);\n",
              "    animation:\n",
              "      spin 1s steps(1) infinite;\n",
              "  }\n",
              "\n",
              "  @keyframes spin {\n",
              "    0% {\n",
              "      border-color: transparent;\n",
              "      border-bottom-color: var(--fill-color);\n",
              "      border-left-color: var(--fill-color);\n",
              "    }\n",
              "    20% {\n",
              "      border-color: transparent;\n",
              "      border-left-color: var(--fill-color);\n",
              "      border-top-color: var(--fill-color);\n",
              "    }\n",
              "    30% {\n",
              "      border-color: transparent;\n",
              "      border-left-color: var(--fill-color);\n",
              "      border-top-color: var(--fill-color);\n",
              "      border-right-color: var(--fill-color);\n",
              "    }\n",
              "    40% {\n",
              "      border-color: transparent;\n",
              "      border-right-color: var(--fill-color);\n",
              "      border-top-color: var(--fill-color);\n",
              "    }\n",
              "    60% {\n",
              "      border-color: transparent;\n",
              "      border-right-color: var(--fill-color);\n",
              "    }\n",
              "    80% {\n",
              "      border-color: transparent;\n",
              "      border-right-color: var(--fill-color);\n",
              "      border-bottom-color: var(--fill-color);\n",
              "    }\n",
              "    90% {\n",
              "      border-color: transparent;\n",
              "      border-bottom-color: var(--fill-color);\n",
              "    }\n",
              "  }\n",
              "</style>\n",
              "\n",
              "  <script>\n",
              "    async function quickchart(key) {\n",
              "      const quickchartButtonEl =\n",
              "        document.querySelector('#' + key + ' button');\n",
              "      quickchartButtonEl.disabled = true;  // To prevent multiple clicks.\n",
              "      quickchartButtonEl.classList.add('colab-df-spinner');\n",
              "      try {\n",
              "        const charts = await google.colab.kernel.invokeFunction(\n",
              "            'suggestCharts', [key], {});\n",
              "      } catch (error) {\n",
              "        console.error('Error during call to suggestCharts:', error);\n",
              "      }\n",
              "      quickchartButtonEl.classList.remove('colab-df-spinner');\n",
              "      quickchartButtonEl.classList.add('colab-df-quickchart-complete');\n",
              "    }\n",
              "    (() => {\n",
              "      let quickchartButtonEl =\n",
              "        document.querySelector('#df-981106f7-0cda-4ad8-a0c6-32e0b61990f9 button');\n",
              "      quickchartButtonEl.style.display =\n",
              "        google.colab.kernel.accessAllowed ? 'block' : 'none';\n",
              "    })();\n",
              "  </script>\n",
              "</div>\n",
              "\n",
              "    </div>\n",
              "  </div>\n"
            ]
          },
          "metadata": {},
          "execution_count": 4
        }
      ]
    },
    {
      "cell_type": "code",
      "source": [
        "for columnName in df:\n",
        "  print(columnName, df[columnName].dtype)\n",
        "#By checking the output, type of the ID , **YEAR, Transaction Amoount,Distance must be integer.\n",
        "#Month's,Transaction type's,Merchant Category's,Card Type's, Location's,Approval of Transaction's and Fraud's types should be string."
      ],
      "metadata": {
        "colab": {
          "base_uri": "https://localhost:8080/"
        },
        "id": "hIkK8OEu7i_1",
        "outputId": "fba2a794-9c89-48c7-bf6e-a171d6025c81"
      },
      "execution_count": 5,
      "outputs": [
        {
          "output_type": "stream",
          "name": "stdout",
          "text": [
            "ID int64\n",
            "Month object\n",
            "**YEAR int64\n",
            "Transaction_Type object\n",
            "Merchant_Category object\n",
            "Transaction_Amount float64\n",
            "Card_Type object\n",
            "Location object\n",
            "Distance float64\n",
            "has the transaction been approved? object\n",
            "What is the age of the user?  float64\n",
            "Account_Balance float64\n",
            "*FRAUD object\n"
          ]
        }
      ]
    },
    {
      "cell_type": "code",
      "source": [
        "new_column_names = {'**YEAR': 'Year',\n",
        "                    'Transaction_Type': 'Transaction Type',\n",
        "                    'Merchant_Category': 'Merchant Category',\n",
        "                    'Transaction_Amount': 'Transaction Amount',\n",
        "                    'Card_Type': 'Card Type',\n",
        "                    'has the transaction been approved?': 'Approvation',\n",
        "                    'What is the age of the user? ': \"User's Age\",\n",
        "                    'Account_Balance': 'Account Balance',\n",
        "                    '*FRAUD': 'Fraud'\n",
        "                    }\n",
        "df.rename(columns=new_column_names, inplace=True)\n",
        "print(df)"
      ],
      "metadata": {
        "colab": {
          "base_uri": "https://localhost:8080/"
        },
        "id": "RLbLCdzQqakM",
        "outputId": "7067e6b5-e406-4288-9716-044e62d8db3c"
      },
      "execution_count": 6,
      "outputs": [
        {
          "output_type": "stream",
          "name": "stdout",
          "text": [
            "    ID Month  Year Transaction Type Merchant Category  Transaction Amount  \\\n",
            "0    1   Jan  2012  Online Purchase       Electronics              1200.0   \n",
            "1    2   Feb  2012   ATM Withdrawal         Groceries               350.0   \n",
            "2    3   Mar  2012  Online Purchase             Books                75.0   \n",
            "3    4   Apr  2012      POS Payment          Clothing                50.0   \n",
            "4    5   May  2012  Online Purchase       Electronics               900.0   \n",
            "..  ..   ...   ...              ...               ...                 ...   \n",
            "94  94   Oct  2019      POS Payment         Groceries               310.0   \n",
            "95  95   Nov  2019  Online Purchase          Clothing                70.0   \n",
            "96  96   Dec  2019   ATM Withdrawal             Books                40.0   \n",
            "97  97   Jan  2020      POS Payment       Electronics               910.0   \n",
            "98  98   Feb  2020  Online Purchase         Groceries               230.0   \n",
            "\n",
            "   Card Type         Location  Distance Approvation  User's Age  \\\n",
            "0     Credit         New York       5.0    Approved        32.0   \n",
            "1      Debit      Los Angeles      10.0    Declined        45.0   \n",
            "2     Credit   San Francisco       15.0    Approved        28.0   \n",
            "3     credit          Chicago       2.0    Approved        36.0   \n",
            "4     Credit         New York       7.0    Approved        40.0   \n",
            "..       ...              ...       ...         ...         ...   \n",
            "94     Debit      Los Angeles      10.0    Approved        47.0   \n",
            "95    Credit          Chicago       4.0    Approved        31.0   \n",
            "96    Credit   San Francisco       17.0    Declined        23.0   \n",
            "97    Credit         New York       5.0    Approved        32.0   \n",
            "98     Debit      Los Angeles      11.0    Approved        22.0   \n",
            "\n",
            "    Account Balance Fraud  \n",
            "0            3000.0    No  \n",
            "1            1500.0    No  \n",
            "2             500.0    No  \n",
            "3            2000.0   Yes  \n",
            "4            2500.0    No  \n",
            "..              ...   ...  \n",
            "94           2000.0    no  \n",
            "95           1100.0    no  \n",
            "96            500.0    No  \n",
            "97           2400.0    No  \n",
            "98            700.0    No  \n",
            "\n",
            "[99 rows x 13 columns]\n"
          ]
        }
      ]
    },
    {
      "cell_type": "markdown",
      "source": [
        "**2-ID COLUMN (WHETHER IT CONTAINS DUPLICATED VALUES,THE VALUES MUST BE UNIQUE)**"
      ],
      "metadata": {
        "id": "a_6HuvZo8l3v"
      }
    },
    {
      "cell_type": "code",
      "source": [
        "print(df[\"ID\"].is_unique)#The output is false, some values are duplicated."
      ],
      "metadata": {
        "colab": {
          "base_uri": "https://localhost:8080/"
        },
        "id": "dyqjueE97kl7",
        "outputId": "e013918c-2dd8-4762-b1c3-e65e9e2d58e2"
      },
      "execution_count": 7,
      "outputs": [
        {
          "output_type": "stream",
          "name": "stdout",
          "text": [
            "False\n"
          ]
        }
      ]
    },
    {
      "cell_type": "code",
      "source": [
        "print(df[\"ID\"].isnull().sum())#No missing values."
      ],
      "metadata": {
        "colab": {
          "base_uri": "https://localhost:8080/"
        },
        "id": "ojK-8DKZ7mDp",
        "outputId": "74010116-daf5-4831-b20d-035a84dd9fea"
      },
      "execution_count": 8,
      "outputs": [
        {
          "output_type": "stream",
          "name": "stdout",
          "text": [
            "0\n"
          ]
        }
      ]
    },
    {
      "cell_type": "code",
      "source": [
        "df.loc[df.duplicated()]#Duplicaed values can be checked by the pandas."
      ],
      "metadata": {
        "colab": {
          "base_uri": "https://localhost:8080/",
          "height": 114
        },
        "id": "btzXuRnY7oAe",
        "outputId": "2685d568-0d29-42f5-b164-5d5357b43516"
      },
      "execution_count": 9,
      "outputs": [
        {
          "output_type": "execute_result",
          "data": {
            "text/plain": [
              "    ID Month  Year Transaction Type Merchant Category  Transaction Amount  \\\n",
              "60  60   Dec  2016   ATM Withdrawal             Books                32.0   \n",
              "\n",
              "   Card Type         Location  Distance Approvation  User's Age  \\\n",
              "60    Credit   San Francisco       16.0    Approved        31.0   \n",
              "\n",
              "    Account Balance Fraud  \n",
              "60           1600.0   Yes  "
            ],
            "text/html": [
              "\n",
              "  <div id=\"df-c23ecfa1-8aa8-4fad-8677-25758e675af4\" class=\"colab-df-container\">\n",
              "    <div>\n",
              "<style scoped>\n",
              "    .dataframe tbody tr th:only-of-type {\n",
              "        vertical-align: middle;\n",
              "    }\n",
              "\n",
              "    .dataframe tbody tr th {\n",
              "        vertical-align: top;\n",
              "    }\n",
              "\n",
              "    .dataframe thead th {\n",
              "        text-align: right;\n",
              "    }\n",
              "</style>\n",
              "<table border=\"1\" class=\"dataframe\">\n",
              "  <thead>\n",
              "    <tr style=\"text-align: right;\">\n",
              "      <th></th>\n",
              "      <th>ID</th>\n",
              "      <th>Month</th>\n",
              "      <th>Year</th>\n",
              "      <th>Transaction Type</th>\n",
              "      <th>Merchant Category</th>\n",
              "      <th>Transaction Amount</th>\n",
              "      <th>Card Type</th>\n",
              "      <th>Location</th>\n",
              "      <th>Distance</th>\n",
              "      <th>Approvation</th>\n",
              "      <th>User's Age</th>\n",
              "      <th>Account Balance</th>\n",
              "      <th>Fraud</th>\n",
              "    </tr>\n",
              "  </thead>\n",
              "  <tbody>\n",
              "    <tr>\n",
              "      <th>60</th>\n",
              "      <td>60</td>\n",
              "      <td>Dec</td>\n",
              "      <td>2016</td>\n",
              "      <td>ATM Withdrawal</td>\n",
              "      <td>Books</td>\n",
              "      <td>32.0</td>\n",
              "      <td>Credit</td>\n",
              "      <td>San Francisco</td>\n",
              "      <td>16.0</td>\n",
              "      <td>Approved</td>\n",
              "      <td>31.0</td>\n",
              "      <td>1600.0</td>\n",
              "      <td>Yes</td>\n",
              "    </tr>\n",
              "  </tbody>\n",
              "</table>\n",
              "</div>\n",
              "    <div class=\"colab-df-buttons\">\n",
              "\n",
              "  <div class=\"colab-df-container\">\n",
              "    <button class=\"colab-df-convert\" onclick=\"convertToInteractive('df-c23ecfa1-8aa8-4fad-8677-25758e675af4')\"\n",
              "            title=\"Convert this dataframe to an interactive table.\"\n",
              "            style=\"display:none;\">\n",
              "\n",
              "  <svg xmlns=\"http://www.w3.org/2000/svg\" height=\"24px\" viewBox=\"0 -960 960 960\">\n",
              "    <path d=\"M120-120v-720h720v720H120Zm60-500h600v-160H180v160Zm220 220h160v-160H400v160Zm0 220h160v-160H400v160ZM180-400h160v-160H180v160Zm440 0h160v-160H620v160ZM180-180h160v-160H180v160Zm440 0h160v-160H620v160Z\"/>\n",
              "  </svg>\n",
              "    </button>\n",
              "\n",
              "  <style>\n",
              "    .colab-df-container {\n",
              "      display:flex;\n",
              "      gap: 12px;\n",
              "    }\n",
              "\n",
              "    .colab-df-convert {\n",
              "      background-color: #E8F0FE;\n",
              "      border: none;\n",
              "      border-radius: 50%;\n",
              "      cursor: pointer;\n",
              "      display: none;\n",
              "      fill: #1967D2;\n",
              "      height: 32px;\n",
              "      padding: 0 0 0 0;\n",
              "      width: 32px;\n",
              "    }\n",
              "\n",
              "    .colab-df-convert:hover {\n",
              "      background-color: #E2EBFA;\n",
              "      box-shadow: 0px 1px 2px rgba(60, 64, 67, 0.3), 0px 1px 3px 1px rgba(60, 64, 67, 0.15);\n",
              "      fill: #174EA6;\n",
              "    }\n",
              "\n",
              "    .colab-df-buttons div {\n",
              "      margin-bottom: 4px;\n",
              "    }\n",
              "\n",
              "    [theme=dark] .colab-df-convert {\n",
              "      background-color: #3B4455;\n",
              "      fill: #D2E3FC;\n",
              "    }\n",
              "\n",
              "    [theme=dark] .colab-df-convert:hover {\n",
              "      background-color: #434B5C;\n",
              "      box-shadow: 0px 1px 3px 1px rgba(0, 0, 0, 0.15);\n",
              "      filter: drop-shadow(0px 1px 2px rgba(0, 0, 0, 0.3));\n",
              "      fill: #FFFFFF;\n",
              "    }\n",
              "  </style>\n",
              "\n",
              "    <script>\n",
              "      const buttonEl =\n",
              "        document.querySelector('#df-c23ecfa1-8aa8-4fad-8677-25758e675af4 button.colab-df-convert');\n",
              "      buttonEl.style.display =\n",
              "        google.colab.kernel.accessAllowed ? 'block' : 'none';\n",
              "\n",
              "      async function convertToInteractive(key) {\n",
              "        const element = document.querySelector('#df-c23ecfa1-8aa8-4fad-8677-25758e675af4');\n",
              "        const dataTable =\n",
              "          await google.colab.kernel.invokeFunction('convertToInteractive',\n",
              "                                                    [key], {});\n",
              "        if (!dataTable) return;\n",
              "\n",
              "        const docLinkHtml = 'Like what you see? Visit the ' +\n",
              "          '<a target=\"_blank\" href=https://colab.research.google.com/notebooks/data_table.ipynb>data table notebook</a>'\n",
              "          + ' to learn more about interactive tables.';\n",
              "        element.innerHTML = '';\n",
              "        dataTable['output_type'] = 'display_data';\n",
              "        await google.colab.output.renderOutput(dataTable, element);\n",
              "        const docLink = document.createElement('div');\n",
              "        docLink.innerHTML = docLinkHtml;\n",
              "        element.appendChild(docLink);\n",
              "      }\n",
              "    </script>\n",
              "  </div>\n",
              "\n",
              "\n",
              "    </div>\n",
              "  </div>\n"
            ]
          },
          "metadata": {},
          "execution_count": 9
        }
      ]
    },
    {
      "cell_type": "code",
      "source": [
        "df.drop_duplicates()#Duplicated rows are dropped.\n",
        "#df.drop_duplicates(inplace=True) To drop the duplicates permanently.\n",
        "df.drop_duplicates(inplace=True, ignore_index=True)#To drop the duplicates permanently. ignore=index=True is used to start all the indexes from 0.\n",
        "#Otherwise, index 60 is removed but it stays as empty row."
      ],
      "metadata": {
        "id": "6W0B5LTx7pv5"
      },
      "execution_count": 10,
      "outputs": []
    },
    {
      "cell_type": "code",
      "source": [
        "#df.loc[60,\"ID\"] by this code, we can check the index 60, because we had removed the index 60, there emerged a gap between indexes, as : 59, 61.\n",
        "len(df[\"ID\"])#the new length must be 98, not 99.\n"
      ],
      "metadata": {
        "colab": {
          "base_uri": "https://localhost:8080/"
        },
        "id": "-D5WlLaf7rj1",
        "outputId": "c8ee294a-c04c-47c8-8f61-3b5f797a6717"
      },
      "execution_count": 11,
      "outputs": [
        {
          "output_type": "execute_result",
          "data": {
            "text/plain": [
              "98"
            ]
          },
          "metadata": {},
          "execution_count": 11
        }
      ]
    },
    {
      "cell_type": "markdown",
      "source": [
        "**3-MONTH COLUMN AND CHECKING THE CONSTRAINTS**"
      ],
      "metadata": {
        "id": "Qb8FWrmY8h1d"
      }
    },
    {
      "cell_type": "code",
      "source": [
        "df[\"Month\"].isnull().sum()"
      ],
      "metadata": {
        "colab": {
          "base_uri": "https://localhost:8080/"
        },
        "id": "09js6rJH7s9j",
        "outputId": "e393c616-988c-4e8c-a3dc-dbf2629b7faa"
      },
      "execution_count": 12,
      "outputs": [
        {
          "output_type": "execute_result",
          "data": {
            "text/plain": [
              "0"
            ]
          },
          "metadata": {},
          "execution_count": 12
        }
      ]
    },
    {
      "cell_type": "code",
      "source": [
        "months = df[\"Month\"].str.extract(r'\\b(\\w{3})\\b', expand=False)\n",
        "df[\"Month\"]=months\n",
        "months=months.astype(str)#The type of the column still remains as object. Therefore, the array can be formed by using Numpy.\n",
        "print(months.unique())#It will help to check which values are found by printing the unique values in months. It can be seen whether these values are compatible with the expected ones.\n",
        "print(months.dtype)"
      ],
      "metadata": {
        "colab": {
          "base_uri": "https://localhost:8080/"
        },
        "id": "p6r2pNyX7ukR",
        "outputId": "edd6bf45-4266-4637-8c4a-8a223f1a8d52"
      },
      "execution_count": 13,
      "outputs": [
        {
          "output_type": "stream",
          "name": "stdout",
          "text": [
            "['Jan' 'Feb' 'Mar' 'Apr' 'May' 'Jun' 'Jul' 'Aug' 'Sep' 'Oct' 'Nov' 'Dec']\n",
            "object\n"
          ]
        }
      ]
    },
    {
      "cell_type": "markdown",
      "source": [
        "**4-YEAR COLUMN**"
      ],
      "metadata": {
        "id": "L9nC9n0j8sq2"
      }
    },
    {
      "cell_type": "code",
      "source": [
        "df[\"Year\"]=df[\"Year\"].astype(str)#To detect the extra digits, len() function can be used. Firstly, **YEAR column must be turned to string type.\n",
        "for row in df[\"Year\"]:\n",
        "  if len(row)==4:\n",
        "    continue\n",
        "  else:\n",
        "    invalidYear=row\n",
        "    print(row)\n",
        "df[\"Year\"]=df[\"Year\"].astype(int)#Column's type is returned to integer to find the indexof the invalidYear."
      ],
      "metadata": {
        "colab": {
          "base_uri": "https://localhost:8080/"
        },
        "id": "OEywoEQA7wVB",
        "outputId": "331f1f59-2cc7-4455-ce1a-77df8bf95856"
      },
      "execution_count": 14,
      "outputs": [
        {
          "output_type": "stream",
          "name": "stdout",
          "text": [
            "20125\n"
          ]
        }
      ]
    },
    {
      "cell_type": "code",
      "source": [
        "#df.loc[36,\"Year\"]\n",
        "invalidYear_index = df[df['Year'] == 20125].index\n",
        "print(invalidYear_index)"
      ],
      "metadata": {
        "colab": {
          "base_uri": "https://localhost:8080/"
        },
        "id": "2tD_ye997xt1",
        "outputId": "e9fe0cad-830d-4344-c808-867856ba87bd"
      },
      "execution_count": 15,
      "outputs": [
        {
          "output_type": "stream",
          "name": "stdout",
          "text": [
            "Int64Index([36], dtype='int64')\n"
          ]
        }
      ]
    },
    {
      "cell_type": "code",
      "source": [
        "df.loc[invalidYear_index, \"Year\"] = 2015#After receiving the location of the invalidYear, we redefine the value.It is replaced.\n",
        "print(df.loc[invalidYear_index,\"Year\"])"
      ],
      "metadata": {
        "colab": {
          "base_uri": "https://localhost:8080/"
        },
        "id": "4DjNOmoX72bH",
        "outputId": "f97c327e-9a0a-49ea-bf04-753237f8bd56"
      },
      "execution_count": 16,
      "outputs": [
        {
          "output_type": "stream",
          "name": "stdout",
          "text": [
            "36    2015\n",
            "Name: Year, dtype: int64\n"
          ]
        }
      ]
    },
    {
      "cell_type": "code",
      "source": [
        "df['Year'].replace('20125', \"2015\", inplace=True)#To make this change permanently, inplace=True must be applied to dataFrame.\n",
        "#print(df[\"Year\"])\n",
        "print(df.loc[invalidYear_index,\"Year\"])"
      ],
      "metadata": {
        "colab": {
          "base_uri": "https://localhost:8080/"
        },
        "id": "knD_UmDZ74E9",
        "outputId": "dbe724a9-a615-4291-b6bb-dddbfcabc216"
      },
      "execution_count": 17,
      "outputs": [
        {
          "output_type": "stream",
          "name": "stdout",
          "text": [
            "36    2015\n",
            "Name: Year, dtype: int64\n"
          ]
        }
      ]
    },
    {
      "cell_type": "markdown",
      "source": [
        "**5-TRANSACTION TYPE**"
      ],
      "metadata": {
        "id": "5MWiLG9w8uqG"
      }
    },
    {
      "cell_type": "code",
      "source": [
        "df[\"Transaction Type\"].isnull().sum()"
      ],
      "metadata": {
        "colab": {
          "base_uri": "https://localhost:8080/"
        },
        "id": "baSMQz-M8BYh",
        "outputId": "df11f2f0-c1a8-4421-a6be-7da39415979c"
      },
      "execution_count": 18,
      "outputs": [
        {
          "output_type": "execute_result",
          "data": {
            "text/plain": [
              "0"
            ]
          },
          "metadata": {},
          "execution_count": 18
        }
      ]
    },
    {
      "cell_type": "code",
      "source": [
        "df[\"Transaction Type\"].dtype #The output returns object type.\n"
      ],
      "metadata": {
        "colab": {
          "base_uri": "https://localhost:8080/"
        },
        "id": "0wHJ5Eau9uAR",
        "outputId": "7306c3a4-3daf-46a7-c227-cb62557ea766"
      },
      "execution_count": 19,
      "outputs": [
        {
          "output_type": "execute_result",
          "data": {
            "text/plain": [
              "dtype('O')"
            ]
          },
          "metadata": {},
          "execution_count": 19
        }
      ]
    },
    {
      "cell_type": "code",
      "source": [
        "print(df[\"Transaction Type\"].value_counts())#The names and numbers of the values can be seen.\n",
        "#Value names with the same meaning but spelling errors may appear."
      ],
      "metadata": {
        "colab": {
          "base_uri": "https://localhost:8080/"
        },
        "id": "4bfIxvo48C62",
        "outputId": "8b6b18d8-9eb7-4afb-ee3f-8580dc47fff9"
      },
      "execution_count": 20,
      "outputs": [
        {
          "output_type": "stream",
          "name": "stdout",
          "text": [
            "Online Purchase    33\n",
            "POS Payment        33\n",
            "ATM Withdrawal     32\n",
            "Name: Transaction Type, dtype: int64\n"
          ]
        }
      ]
    },
    {
      "cell_type": "code",
      "source": [
        "len(df[\"Transaction Type\"])#It can be checked whether the total matches the total value of the dataset."
      ],
      "metadata": {
        "colab": {
          "base_uri": "https://localhost:8080/"
        },
        "id": "O0qEmB1u8Eoc",
        "outputId": "ecfab592-0de5-4053-977e-2939f079c4f2"
      },
      "execution_count": 21,
      "outputs": [
        {
          "output_type": "execute_result",
          "data": {
            "text/plain": [
              "98"
            ]
          },
          "metadata": {},
          "execution_count": 21
        }
      ]
    },
    {
      "cell_type": "markdown",
      "source": [
        "**6-MERCHANT CATEGORY**"
      ],
      "metadata": {
        "id": "dZX_cCKzCghs"
      }
    },
    {
      "cell_type": "code",
      "source": [
        "df[\"Merchant Category\"].isnull().sum()\n",
        "print(df[\"Merchant Category\"].dtype)"
      ],
      "metadata": {
        "colab": {
          "base_uri": "https://localhost:8080/"
        },
        "id": "Gq8x9MzmCgM-",
        "outputId": "16bce97b-964e-4e00-eff6-d7a00f31fa40"
      },
      "execution_count": 22,
      "outputs": [
        {
          "output_type": "stream",
          "name": "stdout",
          "text": [
            "object\n"
          ]
        }
      ]
    },
    {
      "cell_type": "code",
      "source": [
        "print(df[\"Merchant Category\"].value_counts())#Value names seem correct. Also, the sum of the values is consistent with the sample size."
      ],
      "metadata": {
        "colab": {
          "base_uri": "https://localhost:8080/"
        },
        "id": "QUeN23psDEll",
        "outputId": "4320fc71-bd32-4863-ac27-29a1334cc09b"
      },
      "execution_count": 23,
      "outputs": [
        {
          "output_type": "stream",
          "name": "stdout",
          "text": [
            "Electronics    25\n",
            "Groceries      25\n",
            "Books          24\n",
            "Clothing       24\n",
            "Name: Merchant Category, dtype: int64\n"
          ]
        }
      ]
    },
    {
      "cell_type": "markdown",
      "source": [
        "**7-TRANSACTION AMOUNT**"
      ],
      "metadata": {
        "id": "C5x1LiDED3Xa"
      }
    },
    {
      "cell_type": "code",
      "source": [
        "df[\"Transaction Amount\"].isnull().sum()"
      ],
      "metadata": {
        "colab": {
          "base_uri": "https://localhost:8080/"
        },
        "id": "zxbfuNAWJXLf",
        "outputId": "ce4b4bd4-2466-4301-e58b-b9463263194c"
      },
      "execution_count": 24,
      "outputs": [
        {
          "output_type": "execute_result",
          "data": {
            "text/plain": [
              "1"
            ]
          },
          "metadata": {},
          "execution_count": 24
        }
      ]
    },
    {
      "cell_type": "code",
      "source": [
        "#NA value can be imputted with the mean.\n",
        "mean=df[\"Transaction Amount\"].mean()\n",
        "print(mean)"
      ],
      "metadata": {
        "colab": {
          "base_uri": "https://localhost:8080/"
        },
        "id": "E1f3SYB-JfVn",
        "outputId": "b04779d8-c18b-4050-f0af-3edee89d89a0"
      },
      "execution_count": 25,
      "outputs": [
        {
          "output_type": "stream",
          "name": "stdout",
          "text": [
            "319.8041237113402\n"
          ]
        }
      ]
    },
    {
      "cell_type": "code",
      "source": [
        "nan_index = df[df['Transaction Amount'].isna()].index\n",
        "print(\"NaN Index:\", nan_index)"
      ],
      "metadata": {
        "colab": {
          "base_uri": "https://localhost:8080/"
        },
        "id": "g0zcRFIlKqD4",
        "outputId": "2d8c435c-ffa5-4cee-cc36-981e244ee6e8"
      },
      "execution_count": 26,
      "outputs": [
        {
          "output_type": "stream",
          "name": "stdout",
          "text": [
            "NaN Index: Int64Index([14], dtype='int64')\n"
          ]
        }
      ]
    },
    {
      "cell_type": "code",
      "source": [
        "df[\"Transaction Amount\"].fillna(mean,inplace=True)\n",
        "print(df.loc[14,\"Transaction Amount\"])#The mean value is inserted.\n",
        "#It would be logical to round the number 319.8041237113402 to 320, because all values are in the integer form,not float.\n"
      ],
      "metadata": {
        "colab": {
          "base_uri": "https://localhost:8080/"
        },
        "id": "0uwUldSlKQBu",
        "outputId": "feb439a1-a3b9-480f-a6ef-7e4e1d0fb945"
      },
      "execution_count": 27,
      "outputs": [
        {
          "output_type": "stream",
          "name": "stdout",
          "text": [
            "319.8041237113402\n"
          ]
        }
      ]
    },
    {
      "cell_type": "code",
      "source": [
        "df.loc[14,\"Transaction Amount\"]=320\n",
        "df['Transaction Amount'] = df['Transaction Amount'].astype(np.int64)\n",
        "print(df.loc[14,\"Transaction Amount\"])\n",
        "print(df[\"Transaction Amount\"].dtype)\n"
      ],
      "metadata": {
        "colab": {
          "base_uri": "https://localhost:8080/"
        },
        "id": "Y7k9NyWKLuya",
        "outputId": "ddee9bed-403e-43d0-ffa5-4638c816e040"
      },
      "execution_count": 28,
      "outputs": [
        {
          "output_type": "stream",
          "name": "stdout",
          "text": [
            "320\n",
            "int64\n"
          ]
        }
      ]
    },
    {
      "cell_type": "code",
      "source": [
        "#amount_array = df['Transaction_Amount'].values\n",
        "#q1 = np.percentile(amount_array, 0.25)\n",
        "#q3 = np.percentile(amount_array, 0.75)\n",
        "#iqr = q3 - q1\n",
        "#upper_bound = q3+1.5*iqr\n",
        "#lower_bound = q1-1.5*iqr\n",
        "#amount_array[np.logical_or(amount_array < lower_bound , amount_array > upper_bound)]\n",
        "#outliers = (amount_array < lower_bound) | (amount_array > upper_bound)\n",
        "#print(df[outliers])"
      ],
      "metadata": {
        "id": "Koj709mjD7S7"
      },
      "execution_count": 29,
      "outputs": []
    },
    {
      "cell_type": "code",
      "source": [
        "melted_df = pd.melt(df, value_vars=['Transaction Amount'], var_name='Variable', value_name='Value')\n",
        "Q1 = np.percentile(melted_df['Value'], 25)\n",
        "Q3 = np.percentile(melted_df['Value'], 75)\n",
        "IQR = Q3 - Q1\n",
        "lower_bound = Q1 - 1.5 * IQR\n",
        "upper_bound = Q3 + 1.5 * IQR\n",
        "\n",
        "outliers = (melted_df['Value'] < lower_bound) | (melted_df['Value'] > upper_bound)\n",
        "print(melted_df[outliers])\n",
        "#The output indicates empty dataframe,  which means no outlier."
      ],
      "metadata": {
        "colab": {
          "base_uri": "https://localhost:8080/"
        },
        "id": "gTBK32EkHtkX",
        "outputId": "e46ce53a-062e-4d57-e089-ec957045f9ea"
      },
      "execution_count": 30,
      "outputs": [
        {
          "output_type": "stream",
          "name": "stdout",
          "text": [
            "Empty DataFrame\n",
            "Columns: [Variable, Value]\n",
            "Index: []\n"
          ]
        }
      ]
    },
    {
      "cell_type": "code",
      "source": [
        "std_deviation = df['Transaction Amount'].std()\n",
        "print(std_deviation)"
      ],
      "metadata": {
        "colab": {
          "base_uri": "https://localhost:8080/"
        },
        "id": "2pvGzqHLzP5S",
        "outputId": "942ae557-8f14-4bf4-ce29-3459faa7c6e1"
      },
      "execution_count": 31,
      "outputs": [
        {
          "output_type": "stream",
          "name": "stdout",
          "text": [
            "351.37349524118275\n"
          ]
        }
      ]
    },
    {
      "cell_type": "code",
      "source": [
        "mean_value = df['Transaction Amount'].mean()\n",
        "print(mean_value)"
      ],
      "metadata": {
        "colab": {
          "base_uri": "https://localhost:8080/"
        },
        "id": "Qvw6rnlhzz1u",
        "outputId": "49db3f2b-1a2a-40a9-8795-0507dd3cbf00"
      },
      "execution_count": 32,
      "outputs": [
        {
          "output_type": "stream",
          "name": "stdout",
          "text": [
            "319.8061224489796\n"
          ]
        }
      ]
    },
    {
      "cell_type": "code",
      "source": [
        "median_value = df['Transaction Amount'].median()\n",
        "print(median_value)"
      ],
      "metadata": {
        "colab": {
          "base_uri": "https://localhost:8080/"
        },
        "id": "bc5ODK1Lz0zp",
        "outputId": "187d387d-7e0b-4bc7-9bdd-06fbdabe0c5b"
      },
      "execution_count": 33,
      "outputs": [
        {
          "output_type": "stream",
          "name": "stdout",
          "text": [
            "190.0\n"
          ]
        }
      ]
    },
    {
      "cell_type": "code",
      "source": [
        "mode_value = df['Transaction Amount'].mode()\n",
        "print(mode_value)"
      ],
      "metadata": {
        "colab": {
          "base_uri": "https://localhost:8080/"
        },
        "id": "q-iU4FwBz4Wt",
        "outputId": "421bad28-d0ec-409b-832d-0466bdfd14eb"
      },
      "execution_count": 34,
      "outputs": [
        {
          "output_type": "stream",
          "name": "stdout",
          "text": [
            "0    50\n",
            "Name: Transaction Amount, dtype: int64\n"
          ]
        }
      ]
    },
    {
      "cell_type": "markdown",
      "source": [
        "**8-CARD TYPE**"
      ],
      "metadata": {
        "id": "uYqfilSfMo-L"
      }
    },
    {
      "cell_type": "code",
      "source": [
        "melted_df = df.melt(value_vars=['Card Type'], var_name='Card_Type', value_name='Card_Type_Value')\n",
        "print(melted_df)"
      ],
      "metadata": {
        "colab": {
          "base_uri": "https://localhost:8080/"
        },
        "id": "pIxxs02sJvG7",
        "outputId": "212e952e-e514-404e-f12e-f6d8d8f9e734"
      },
      "execution_count": 35,
      "outputs": [
        {
          "output_type": "stream",
          "name": "stdout",
          "text": [
            "    Card_Type Card_Type_Value\n",
            "0   Card Type          Credit\n",
            "1   Card Type           Debit\n",
            "2   Card Type          Credit\n",
            "3   Card Type          credit\n",
            "4   Card Type          Credit\n",
            "..        ...             ...\n",
            "93  Card Type           Debit\n",
            "94  Card Type          Credit\n",
            "95  Card Type          Credit\n",
            "96  Card Type          Credit\n",
            "97  Card Type           Debit\n",
            "\n",
            "[98 rows x 2 columns]\n"
          ]
        }
      ]
    },
    {
      "cell_type": "code",
      "source": [
        "df['Card Type'].unique()#It can be seen that  upper/lower case versions of the words lead to corruption while forming pivot table."
      ],
      "metadata": {
        "colab": {
          "base_uri": "https://localhost:8080/"
        },
        "id": "OrJMhTacSaAg",
        "outputId": "70d9c2e9-c770-4f5c-a471-40caa65ed630"
      },
      "execution_count": 36,
      "outputs": [
        {
          "output_type": "execute_result",
          "data": {
            "text/plain": [
              "array(['Credit', 'Debit', 'credit', 'debit'], dtype=object)"
            ]
          },
          "metadata": {},
          "execution_count": 36
        }
      ]
    },
    {
      "cell_type": "code",
      "source": [
        "#df['Card_Type'] = df['Card_Type'].str.upper()\n",
        "#df['Card_Type'] = np.where(df['Card_Type'].isin(['CREDIT', 'DEBIT']), df['Card_Type'], np.nan)\n",
        "#print(df[\"Card_Type\"].value_counts())"
      ],
      "metadata": {
        "id": "-7dHSWtaS7UU"
      },
      "execution_count": 37,
      "outputs": []
    },
    {
      "cell_type": "code",
      "source": [
        "cardTypeDebit = df[\"Card Type\"].str.contains(\"debit\", case=False)\n",
        "cardTypeCredit = df[\"Card Type\"].str.contains(\"credit\", case=False)\n",
        "df[\"Card Type\"] = np.where(cardTypeDebit, \"DEBIT\", np.where(cardTypeCredit, \"CREDIT\", df[\"Card Type\"]))\n",
        "\n",
        "print(df[\"Card Type\"].value_counts())"
      ],
      "metadata": {
        "colab": {
          "base_uri": "https://localhost:8080/"
        },
        "id": "fqPkPkZ8Whr9",
        "outputId": "aaf5e2cd-37a2-4d35-bacb-47ece58309ce"
      },
      "execution_count": 38,
      "outputs": [
        {
          "output_type": "stream",
          "name": "stdout",
          "text": [
            "CREDIT    73\n",
            "DEBIT     25\n",
            "Name: Card Type, dtype: int64\n"
          ]
        }
      ]
    },
    {
      "cell_type": "code",
      "source": [
        "df[\"Card Type\"].head()"
      ],
      "metadata": {
        "colab": {
          "base_uri": "https://localhost:8080/"
        },
        "id": "BpQ7QnT2ZX3g",
        "outputId": "e6660994-70ec-4005-d90a-db52a24c6632"
      },
      "execution_count": 39,
      "outputs": [
        {
          "output_type": "execute_result",
          "data": {
            "text/plain": [
              "0    CREDIT\n",
              "1     DEBIT\n",
              "2    CREDIT\n",
              "3    CREDIT\n",
              "4    CREDIT\n",
              "Name: Card Type, dtype: object"
            ]
          },
          "metadata": {},
          "execution_count": 39
        }
      ]
    },
    {
      "cell_type": "markdown",
      "source": [
        "8-LOCATIONS(VALUES CONTAIN WHHITE SPACES AND QUOTATION MARKS)"
      ],
      "metadata": {
        "id": "RhiXKIjVZ9Jd"
      }
    },
    {
      "cell_type": "code",
      "source": [
        "df[\"Location\"].isnull().sum()"
      ],
      "metadata": {
        "colab": {
          "base_uri": "https://localhost:8080/"
        },
        "id": "-tNyiiWAcRYJ",
        "outputId": "009822bc-ddde-4388-cc21-12b1bb9ef16a"
      },
      "execution_count": 40,
      "outputs": [
        {
          "output_type": "execute_result",
          "data": {
            "text/plain": [
              "0"
            ]
          },
          "metadata": {},
          "execution_count": 40
        }
      ]
    },
    {
      "cell_type": "code",
      "source": [
        "print(df[\"Location\"].value_counts())#Beside the white spaces and unnecessary marks,there is NA value that is not detected by Pandas."
      ],
      "metadata": {
        "colab": {
          "base_uri": "https://localhost:8080/"
        },
        "id": "Av3wCYaZcZWh",
        "outputId": "e64b6625-c82e-49e4-b1a7-d9be8079128d"
      },
      "execution_count": 41,
      "outputs": [
        {
          "output_type": "stream",
          "name": "stdout",
          "text": [
            "Los Angeles         25\n",
            "New York            24\n",
            "Chicago             23\n",
            " San Francisco      21\n",
            "\"San Francisco\"      2\n",
            "NewYork              1\n",
            "\"Chicago\"            1\n",
            "NA                   1\n",
            "Name: Location, dtype: int64\n"
          ]
        }
      ]
    },
    {
      "cell_type": "code",
      "source": [
        "missing_values=[\"n/a\",\"NA\",\"na\",\"-\"]\n",
        "#df=pd.read_excel(\"Fraud-Detection.xlsx\",na_values=missing_values) na_values=missing_values is applied all columns in the DataFrame,not spesific columns.\n",
        "df[\"Location\"] = df[\"Location\"].replace(missing_values, pd.NA)\n",
        "df[\"Location\"].isnull().sum()\n"
      ],
      "metadata": {
        "colab": {
          "base_uri": "https://localhost:8080/"
        },
        "id": "pZtDOt5MdmAw",
        "outputId": "7d2ec84c-5aad-4384-ce94-d8b616347482"
      },
      "execution_count": 42,
      "outputs": [
        {
          "output_type": "execute_result",
          "data": {
            "text/plain": [
              "0"
            ]
          },
          "metadata": {},
          "execution_count": 42
        }
      ]
    },
    {
      "cell_type": "code",
      "source": [
        "mode=df[\"Location\"].mode()[0]#We can imput the mode to the na value.\n",
        "print(mode)#.Actually the mode doesn't make sense because all frequencies of the location are almost equal.\n",
        "df[\"Location\"].fillna(mode,inplace=True)\n"
      ],
      "metadata": {
        "colab": {
          "base_uri": "https://localhost:8080/"
        },
        "id": "hYhQTEeRgKCX",
        "outputId": "7af029af-04d0-4270-bd57-23f3cd756a97"
      },
      "execution_count": 43,
      "outputs": [
        {
          "output_type": "stream",
          "name": "stdout",
          "text": [
            "Los Angeles\n"
          ]
        }
      ]
    },
    {
      "cell_type": "code",
      "source": [
        "df['Location'] = df['Location'].str.replace('[\"]', '').str.strip().str.upper()\n",
        "df['Location'] = df['Location'].replace({'NEWYORK': 'NEW YORK'})\n",
        "print(df[\"Location\"].value_counts())"
      ],
      "metadata": {
        "colab": {
          "base_uri": "https://localhost:8080/"
        },
        "id": "aDXqkRv_adcI",
        "outputId": "cfdcd1d7-6358-40a9-853a-d02e30251d7b"
      },
      "execution_count": 44,
      "outputs": [
        {
          "output_type": "stream",
          "name": "stdout",
          "text": [
            "NEW YORK         25\n",
            "LOS ANGELES      25\n",
            "CHICAGO          24\n",
            "SAN FRANCISCO    23\n",
            "NA                1\n",
            "Name: Location, dtype: int64\n"
          ]
        },
        {
          "output_type": "stream",
          "name": "stderr",
          "text": [
            "<ipython-input-44-08a50ce0f6df>:1: FutureWarning: The default value of regex will change from True to False in a future version.\n",
            "  df['Location'] = df['Location'].str.replace('[\"]', '').str.strip().str.upper()\n"
          ]
        }
      ]
    },
    {
      "cell_type": "markdown",
      "source": [
        "9-DISTANCE\n"
      ],
      "metadata": {
        "id": "NBiwChZPkZJC"
      }
    },
    {
      "cell_type": "code",
      "source": [
        "df[\"Distance\"].isnull().sum()#we can replace the null value with the mean value."
      ],
      "metadata": {
        "colab": {
          "base_uri": "https://localhost:8080/"
        },
        "id": "Ie7gXEu4mDbv",
        "outputId": "ae64cdd7-808e-40ad-cf60-8ee9fe1e9d56"
      },
      "execution_count": 45,
      "outputs": [
        {
          "output_type": "execute_result",
          "data": {
            "text/plain": [
              "1"
            ]
          },
          "metadata": {},
          "execution_count": 45
        }
      ]
    },
    {
      "cell_type": "code",
      "source": [
        "df[\"Distance\"].dtype#Its type must be integer."
      ],
      "metadata": {
        "colab": {
          "base_uri": "https://localhost:8080/"
        },
        "id": "S8oQV9vnmt69",
        "outputId": "8105c5a5-8203-4563-9e51-5cc8bb234034"
      },
      "execution_count": 46,
      "outputs": [
        {
          "output_type": "execute_result",
          "data": {
            "text/plain": [
              "dtype('float64')"
            ]
          },
          "metadata": {},
          "execution_count": 46
        }
      ]
    },
    {
      "cell_type": "code",
      "source": [
        "meanD=df[\"Distance\"].mean()\n",
        "#print(mean) the output is:9.3\n",
        "df[\"Distance\"].fillna(meanD,inplace=True)\n",
        "df[\"Distance\"].isnull().sum()#There is no null value.\n"
      ],
      "metadata": {
        "colab": {
          "base_uri": "https://localhost:8080/"
        },
        "id": "_dbmcNG7nCZe",
        "outputId": "c081e335-e188-41e4-ff81-f2c2acdaf91d"
      },
      "execution_count": 47,
      "outputs": [
        {
          "output_type": "execute_result",
          "data": {
            "text/plain": [
              "0"
            ]
          },
          "metadata": {},
          "execution_count": 47
        }
      ]
    },
    {
      "cell_type": "code",
      "source": [],
      "metadata": {
        "id": "08tsGGFkKjxK"
      },
      "execution_count": 47,
      "outputs": []
    },
    {
      "cell_type": "code",
      "source": [
        "df[\"Distance\"] = df[\"Distance\"].astype('int64')#Type of the column is converted to integer.\n",
        "print(df[\"Distance\"].dtype)"
      ],
      "metadata": {
        "colab": {
          "base_uri": "https://localhost:8080/"
        },
        "id": "SnLZGlQRpURH",
        "outputId": "e56358a5-605a-4658-d220-f2e671571475"
      },
      "execution_count": 48,
      "outputs": [
        {
          "output_type": "stream",
          "name": "stdout",
          "text": [
            "int64\n"
          ]
        }
      ]
    },
    {
      "cell_type": "code",
      "source": [
        "std_deviation = df['Distance'].std()\n",
        "print(std_deviation)"
      ],
      "metadata": {
        "colab": {
          "base_uri": "https://localhost:8080/"
        },
        "id": "C7so4pON0dib",
        "outputId": "22055719-97cc-4530-9723-9a41056ba82c"
      },
      "execution_count": 49,
      "outputs": [
        {
          "output_type": "stream",
          "name": "stdout",
          "text": [
            "5.266873238786381\n"
          ]
        }
      ]
    },
    {
      "cell_type": "code",
      "source": [
        "mean_value = df['Distance'].mean()\n",
        "print(mean_value)"
      ],
      "metadata": {
        "colab": {
          "base_uri": "https://localhost:8080/"
        },
        "id": "V5lsOrAP0dbO",
        "outputId": "ba2711a1-3cb5-4282-b66d-dfbf935c7a54"
      },
      "execution_count": 50,
      "outputs": [
        {
          "output_type": "stream",
          "name": "stdout",
          "text": [
            "9.36734693877551\n"
          ]
        }
      ]
    },
    {
      "cell_type": "code",
      "source": [
        "median_value = df['Distance'].median()\n",
        "print(median_value)"
      ],
      "metadata": {
        "colab": {
          "base_uri": "https://localhost:8080/"
        },
        "id": "StWnPFis0dTN",
        "outputId": "1252576b-5b44-4e52-8bd2-0524e177a1b4"
      },
      "execution_count": 51,
      "outputs": [
        {
          "output_type": "stream",
          "name": "stdout",
          "text": [
            "8.5\n"
          ]
        }
      ]
    },
    {
      "cell_type": "code",
      "source": [
        "mode_value = df['Distance'].mode()\n",
        "print(mode_value)"
      ],
      "metadata": {
        "colab": {
          "base_uri": "https://localhost:8080/"
        },
        "id": "DiSzZgjY0dIi",
        "outputId": "c474878b-6d17-4116-861a-aaa6ae32a481"
      },
      "execution_count": 52,
      "outputs": [
        {
          "output_type": "stream",
          "name": "stdout",
          "text": [
            "0    5\n",
            "Name: Distance, dtype: int64\n"
          ]
        }
      ]
    },
    {
      "cell_type": "code",
      "source": [
        "melted_df = pd.melt(df, value_vars=['Distance'], var_name='Variable', value_name='Value')\n",
        "Q1 = np.percentile(melted_df['Value'], 25)\n",
        "Q3 = np.percentile(melted_df['Value'], 75)\n",
        "IQR = Q3 - Q1\n",
        "lower_bound = Q1 - 1.5 * IQR\n",
        "upper_bound = Q3 + 1.5 * IQR\n",
        "\n",
        "outliers = (melted_df['Value'] < lower_bound) | (melted_df['Value'] > upper_bound)\n",
        "print(melted_df[outliers])\n",
        "#The output indicates empty dataframe,  which means no outlier."
      ],
      "metadata": {
        "colab": {
          "base_uri": "https://localhost:8080/"
        },
        "id": "nidaiRd01J_F",
        "outputId": "8e937eca-cbce-4a8f-85e4-f6773c3ca70d"
      },
      "execution_count": 53,
      "outputs": [
        {
          "output_type": "stream",
          "name": "stdout",
          "text": [
            "Empty DataFrame\n",
            "Columns: [Variable, Value]\n",
            "Index: []\n"
          ]
        }
      ]
    },
    {
      "cell_type": "markdown",
      "source": [
        "**10-APPROVATION**"
      ],
      "metadata": {
        "id": "q2W-mKmxpy-I"
      }
    },
    {
      "cell_type": "code",
      "source": [
        "df[\"Approvation\"].head()"
      ],
      "metadata": {
        "colab": {
          "base_uri": "https://localhost:8080/"
        },
        "id": "irWCFRI0Y9Ii",
        "outputId": "b0983161-7312-40d1-cee6-9be573dafeff"
      },
      "execution_count": 54,
      "outputs": [
        {
          "output_type": "execute_result",
          "data": {
            "text/plain": [
              "0    Approved\n",
              "1    Declined\n",
              "2    Approved\n",
              "3    Approved\n",
              "4    Approved\n",
              "Name: Approvation, dtype: object"
            ]
          },
          "metadata": {},
          "execution_count": 54
        }
      ]
    },
    {
      "cell_type": "code",
      "source": [
        "df[\"Approvation\"].isnull().sum()"
      ],
      "metadata": {
        "colab": {
          "base_uri": "https://localhost:8080/"
        },
        "id": "THhScPVFapmA",
        "outputId": "c37e010f-20e0-4982-c8d8-077a69ae5701"
      },
      "execution_count": 55,
      "outputs": [
        {
          "output_type": "execute_result",
          "data": {
            "text/plain": [
              "0"
            ]
          },
          "metadata": {},
          "execution_count": 55
        }
      ]
    },
    {
      "cell_type": "code",
      "source": [
        "df[\"Approvation\"]\n",
        "print(df[\"Approvation\"].value_counts())#It seems there is no typo, or missed value."
      ],
      "metadata": {
        "colab": {
          "base_uri": "https://localhost:8080/"
        },
        "id": "1FbSVfWxaCjY",
        "outputId": "5675e08d-54dd-475f-c746-e5a55e42f7fc"
      },
      "execution_count": 56,
      "outputs": [
        {
          "output_type": "stream",
          "name": "stdout",
          "text": [
            "Approved    82\n",
            "Declined    16\n",
            "Name: Approvation, dtype: int64\n"
          ]
        }
      ]
    },
    {
      "cell_type": "markdown",
      "source": [
        "**11-WHAT IS THE AGE**"
      ],
      "metadata": {
        "id": "AEMxNphlbFD2"
      }
    },
    {
      "cell_type": "code",
      "source": [
        "df[\"User's Age\"].head()"
      ],
      "metadata": {
        "colab": {
          "base_uri": "https://localhost:8080/"
        },
        "id": "uxLbbRUEcR2p",
        "outputId": "03a9662d-3845-4e07-ed58-2fca08e2ecd1"
      },
      "execution_count": 57,
      "outputs": [
        {
          "output_type": "execute_result",
          "data": {
            "text/plain": [
              "0    32.0\n",
              "1    45.0\n",
              "2    28.0\n",
              "3    36.0\n",
              "4    40.0\n",
              "Name: User's Age, dtype: float64"
            ]
          },
          "metadata": {},
          "execution_count": 57
        }
      ]
    },
    {
      "cell_type": "code",
      "source": [
        "negative_age = df[df[\"User's Age\"] < 0]\n",
        "print(negative_age[\"User's Age\"])\n",
        "df.loc[df[\"User's Age\"] < 0, \"User's Age\"] *= -1\n",
        "updated_negative_age = df[df[\"User's Age\"] < 0]\n",
        "print(updated_negative_age[\"User's Age\"])"
      ],
      "metadata": {
        "colab": {
          "base_uri": "https://localhost:8080/"
        },
        "id": "r9hm5DRDiuwq",
        "outputId": "799aeca6-aeb8-48bc-e067-ad89c2e5c1a7"
      },
      "execution_count": 58,
      "outputs": [
        {
          "output_type": "stream",
          "name": "stdout",
          "text": [
            "10   -30.0\n",
            "Name: User's Age, dtype: float64\n",
            "Series([], Name: User's Age, dtype: float64)\n"
          ]
        }
      ]
    },
    {
      "cell_type": "code",
      "source": [
        "df.loc[10,\"User's Age\"]#The negative value is fixed."
      ],
      "metadata": {
        "colab": {
          "base_uri": "https://localhost:8080/"
        },
        "id": "mawhldWGjOea",
        "outputId": "75968f39-1946-4ade-f12b-dd17d93084b6"
      },
      "execution_count": 59,
      "outputs": [
        {
          "output_type": "execute_result",
          "data": {
            "text/plain": [
              "30.0"
            ]
          },
          "metadata": {},
          "execution_count": 59
        }
      ]
    },
    {
      "cell_type": "code",
      "source": [
        "df[\"User's Age\"].isnull().sum()#we can fill the na value with the mean."
      ],
      "metadata": {
        "colab": {
          "base_uri": "https://localhost:8080/"
        },
        "id": "EWmDh0hnkjCj",
        "outputId": "c803f82f-4a49-4976-f229-a22438c591bc"
      },
      "execution_count": 60,
      "outputs": [
        {
          "output_type": "execute_result",
          "data": {
            "text/plain": [
              "1"
            ]
          },
          "metadata": {},
          "execution_count": 60
        }
      ]
    },
    {
      "cell_type": "code",
      "source": [
        "null_index_Age = df[df[\"User's Age\"].isnull()].index\n",
        "print(null_index_Age)#After filling the na value, we can use its location to check its value."
      ],
      "metadata": {
        "colab": {
          "base_uri": "https://localhost:8080/"
        },
        "id": "APY4z_dJmRBW",
        "outputId": "87508061-b8b6-42ce-c89c-0df369111084"
      },
      "execution_count": 61,
      "outputs": [
        {
          "output_type": "stream",
          "name": "stdout",
          "text": [
            "Int64Index([31], dtype='int64')\n"
          ]
        }
      ]
    },
    {
      "cell_type": "code",
      "source": [
        "meanA=df[\"User's Age\"].mean()\n",
        "#print(meanA) #It returns 34.4639175257732, it should be rounded lower value.\n",
        "meanA=34\n",
        "df[\"User's Age\"].fillna(meanA,inplace=True)\n",
        "valueAge= df.loc[31,\"User's Age\"]\n",
        "print(valueAge)\n",
        "df[\"User's Age\"]= df[\"User's Age\"].astype(int)\n",
        "print(df[\"User's Age\"].dtype)#Its type is changed"
      ],
      "metadata": {
        "colab": {
          "base_uri": "https://localhost:8080/"
        },
        "id": "oQZ402HSkpXc",
        "outputId": "3e73ca96-d1a9-44ce-a09c-dbcfb7ea6508"
      },
      "execution_count": 62,
      "outputs": [
        {
          "output_type": "stream",
          "name": "stdout",
          "text": [
            "34.0\n",
            "int64\n"
          ]
        }
      ]
    },
    {
      "cell_type": "code",
      "source": [
        "melted_df = pd.melt(df, value_vars=[\"User's Age\"], var_name='Variable', value_name='Value')\n",
        "Q1 = np.percentile(melted_df['Value'], 25)\n",
        "Q3 = np.percentile(melted_df['Value'], 75)\n",
        "IQR = Q3 - Q1\n",
        "lower_bound = Q1 - 1.5 * IQR\n",
        "upper_bound = Q3 + 1.5 * IQR\n",
        "\n",
        "outliers = (melted_df['Value'] < lower_bound) | (melted_df['Value'] > upper_bound)\n",
        "print(melted_df[outliers])\n",
        "#The output indicates empty dataframe,  which means no outlier."
      ],
      "metadata": {
        "colab": {
          "base_uri": "https://localhost:8080/"
        },
        "id": "Um1wSAmX3iOf",
        "outputId": "68122572-ccf8-4539-85f9-e00a45869548"
      },
      "execution_count": 63,
      "outputs": [
        {
          "output_type": "stream",
          "name": "stdout",
          "text": [
            "Empty DataFrame\n",
            "Columns: [Variable, Value]\n",
            "Index: []\n"
          ]
        }
      ]
    },
    {
      "cell_type": "code",
      "source": [
        "std_deviation = df[\"User's Age\"].std()\n",
        "print(std_deviation)"
      ],
      "metadata": {
        "colab": {
          "base_uri": "https://localhost:8080/"
        },
        "id": "ijR9Pdjs3iFg",
        "outputId": "f65a5a92-e680-4165-858d-2d146a659279"
      },
      "execution_count": 64,
      "outputs": [
        {
          "output_type": "stream",
          "name": "stdout",
          "text": [
            "9.768631014838292\n"
          ]
        }
      ]
    },
    {
      "cell_type": "code",
      "source": [
        "median_value = df[\"User's Age\"].median()\n",
        "print(median_value)"
      ],
      "metadata": {
        "colab": {
          "base_uri": "https://localhost:8080/"
        },
        "id": "Gb3I1MWV3h_H",
        "outputId": "a4c46939-7d92-46d5-e006-c91c1720291b"
      },
      "execution_count": 65,
      "outputs": [
        {
          "output_type": "stream",
          "name": "stdout",
          "text": [
            "32.0\n"
          ]
        }
      ]
    },
    {
      "cell_type": "code",
      "source": [
        "mode_value = df[\"User's Age\"].mode()[0]\n",
        "print(mode_value)"
      ],
      "metadata": {
        "colab": {
          "base_uri": "https://localhost:8080/"
        },
        "id": "pDJbp1NJ3h6k",
        "outputId": "2f0d3cb6-f5b2-402d-9d8d-2d494347687b"
      },
      "execution_count": 66,
      "outputs": [
        {
          "output_type": "stream",
          "name": "stdout",
          "text": [
            "28\n"
          ]
        }
      ]
    },
    {
      "cell_type": "markdown",
      "source": [
        "**12-ACCOUNT BALANCE**"
      ],
      "metadata": {
        "id": "KVOiILA9pYqL"
      }
    },
    {
      "cell_type": "code",
      "source": [
        "df[\"Account Balance\"].isnull().sum()#null value can be filled with the mean value."
      ],
      "metadata": {
        "colab": {
          "base_uri": "https://localhost:8080/"
        },
        "id": "DUyOLnMzpcWq",
        "outputId": "9c0014da-31e5-4d13-9261-40ac2777a8af"
      },
      "execution_count": 67,
      "outputs": [
        {
          "output_type": "execute_result",
          "data": {
            "text/plain": [
              "1"
            ]
          },
          "metadata": {},
          "execution_count": 67
        }
      ]
    },
    {
      "cell_type": "code",
      "source": [
        "df[\"Account Balance\"].dtype#its type should be integer."
      ],
      "metadata": {
        "colab": {
          "base_uri": "https://localhost:8080/"
        },
        "id": "ua5EGg1Qplyv",
        "outputId": "584ef1b4-7d52-49be-f78d-8cab44522047"
      },
      "execution_count": 68,
      "outputs": [
        {
          "output_type": "execute_result",
          "data": {
            "text/plain": [
              "dtype('float64')"
            ]
          },
          "metadata": {},
          "execution_count": 68
        }
      ]
    },
    {
      "cell_type": "code",
      "source": [
        "Q1 = df['Account Balance'].quantile(0.25)\n",
        "Q3 = df['Account Balance'].quantile(0.75)\n",
        "IQR = Q3 - Q1\n",
        "lower_boundAc = Q1 - 1.5 * IQR\n",
        "upper_boundAc = Q3 + 1.5 * IQR\n",
        "outliersAc = df[(df['Account Balance'] < lower_boundAc) | (df['Account Balance'] > upper_boundAc)]\n",
        "print(outliersAc['Account Balance'])"
      ],
      "metadata": {
        "colab": {
          "base_uri": "https://localhost:8080/"
        },
        "id": "nB0oCd4GpsNo",
        "outputId": "d9a483fa-d382-43d7-d390-1d986a6fc00e"
      },
      "execution_count": 69,
      "outputs": [
        {
          "output_type": "stream",
          "name": "stdout",
          "text": [
            "6     10000.0\n",
            "38    10000.0\n",
            "62    10000.0\n",
            "86    10000.0\n",
            "Name: Account Balance, dtype: float64\n"
          ]
        }
      ]
    },
    {
      "cell_type": "code",
      "source": [
        "df.loc[outliersAc.index, 'Account Balance'] = mean_value\n"
      ],
      "metadata": {
        "id": "QWnwU9Ia52cm"
      },
      "execution_count": 70,
      "outputs": []
    },
    {
      "cell_type": "code",
      "source": [
        "std_deviation = df['Account Balance'].std()\n",
        "print(std_deviation)"
      ],
      "metadata": {
        "colab": {
          "base_uri": "https://localhost:8080/"
        },
        "id": "sx5sTB2Z4Rif",
        "outputId": "8208d34c-27fb-479b-c757-566d31e13e65"
      },
      "execution_count": 71,
      "outputs": [
        {
          "output_type": "stream",
          "name": "stdout",
          "text": [
            "886.496103282404\n"
          ]
        }
      ]
    },
    {
      "cell_type": "code",
      "source": [
        "mean_value = df['Account Balance'].mean()\n",
        "print(mean_value)"
      ],
      "metadata": {
        "colab": {
          "base_uri": "https://localhost:8080/"
        },
        "id": "WrwMOtpQ4ayB",
        "outputId": "80da6774-d29d-4eb1-aa3c-59e4a881833b"
      },
      "execution_count": 72,
      "outputs": [
        {
          "output_type": "stream",
          "name": "stdout",
          "text": [
            "1437.4996844098462\n"
          ]
        }
      ]
    },
    {
      "cell_type": "code",
      "source": [
        "mode_value = df['Account Balance'].mode()[0]\n",
        "print(mode_value)"
      ],
      "metadata": {
        "colab": {
          "base_uri": "https://localhost:8080/"
        },
        "id": "-iiHxIIT4wmX",
        "outputId": "8be447e5-d22f-4198-85b3-51101e944363"
      },
      "execution_count": 73,
      "outputs": [
        {
          "output_type": "stream",
          "name": "stdout",
          "text": [
            "700.0\n"
          ]
        }
      ]
    },
    {
      "cell_type": "code",
      "source": [
        "median_value = df['Account Balance'].median()\n",
        "print(median_value)"
      ],
      "metadata": {
        "colab": {
          "base_uri": "https://localhost:8080/"
        },
        "id": "AbYQ12Bk40OP",
        "outputId": "ef054b13-e756-4c6c-b907-c3f94574ccf9"
      },
      "execution_count": 74,
      "outputs": [
        {
          "output_type": "stream",
          "name": "stdout",
          "text": [
            "1200.0\n"
          ]
        }
      ]
    },
    {
      "cell_type": "markdown",
      "source": [
        "**13-FRAUD**"
      ],
      "metadata": {
        "id": "esfL9IDotZA7"
      }
    },
    {
      "cell_type": "code",
      "source": [
        "df[\"Fraud\"].head()"
      ],
      "metadata": {
        "colab": {
          "base_uri": "https://localhost:8080/"
        },
        "id": "hAOMR6I4t5a2",
        "outputId": "203f5dfa-66d7-43c1-c44f-d8e4fbe37d25"
      },
      "execution_count": 75,
      "outputs": [
        {
          "output_type": "execute_result",
          "data": {
            "text/plain": [
              "0     No\n",
              "1     No\n",
              "2     No\n",
              "3    Yes\n",
              "4     No\n",
              "Name: Fraud, dtype: object"
            ]
          },
          "metadata": {},
          "execution_count": 75
        }
      ]
    },
    {
      "cell_type": "code",
      "source": [
        "df[\"Fraud\"].isnull().sum()"
      ],
      "metadata": {
        "colab": {
          "base_uri": "https://localhost:8080/"
        },
        "id": "htxD3sRcvmrM",
        "outputId": "5a57312f-7a82-4224-afff-6c9d80af552f"
      },
      "execution_count": 76,
      "outputs": [
        {
          "output_type": "execute_result",
          "data": {
            "text/plain": [
              "1"
            ]
          },
          "metadata": {},
          "execution_count": 76
        }
      ]
    },
    {
      "cell_type": "code",
      "source": [
        "df[\"Fraud\"].value_counts()#typo"
      ],
      "metadata": {
        "colab": {
          "base_uri": "https://localhost:8080/"
        },
        "id": "y4e_-goHuJpz",
        "outputId": "7ab08bdc-bc5f-4a03-840a-867adb1ee148"
      },
      "execution_count": 77,
      "outputs": [
        {
          "output_type": "execute_result",
          "data": {
            "text/plain": [
              "No     64\n",
              "Yes    24\n",
              "no      6\n",
              "YES     3\n",
              "Name: Fraud, dtype: int64"
            ]
          },
          "metadata": {},
          "execution_count": 77
        }
      ]
    },
    {
      "cell_type": "code",
      "source": [
        "valueYes = df[\"Fraud\"].str.contains(\"YES\", case=False)\n",
        "valueNo = df[\"Fraud\"].str.contains(\"no\", case=False)\n",
        "df[\"Fraud\"] = np.where(cardTypeDebit, \"Yes\", np.where(cardTypeCredit, \"No\", df[\"Fraud\"]))"
      ],
      "metadata": {
        "id": "v6IqNjZPwE2w"
      },
      "execution_count": 78,
      "outputs": []
    },
    {
      "cell_type": "code",
      "source": [
        "print(df[\"Fraud\"].value_counts())"
      ],
      "metadata": {
        "colab": {
          "base_uri": "https://localhost:8080/"
        },
        "id": "95IEGXuuwvse",
        "outputId": "4fe4b327-4cef-4131-ec8e-1dc649e099cf"
      },
      "execution_count": 79,
      "outputs": [
        {
          "output_type": "stream",
          "name": "stdout",
          "text": [
            "No     73\n",
            "Yes    25\n",
            "Name: Fraud, dtype: int64\n"
          ]
        }
      ]
    },
    {
      "cell_type": "code",
      "source": [
        "mode=df[\"Fraud\"].mode()\n",
        "print(mode)\n",
        "df[\"Fraud\"].fillna(mode,inplace=True)\n",
        "print(df[\"Fraud\"].value_counts())"
      ],
      "metadata": {
        "colab": {
          "base_uri": "https://localhost:8080/"
        },
        "id": "UDBjlWBGw8kG",
        "outputId": "669be6e9-5bbc-4836-9928-58d58658e1b7"
      },
      "execution_count": 80,
      "outputs": [
        {
          "output_type": "stream",
          "name": "stdout",
          "text": [
            "0    No\n",
            "Name: Fraud, dtype: object\n",
            "No     73\n",
            "Yes    25\n",
            "Name: Fraud, dtype: int64\n"
          ]
        }
      ]
    },
    {
      "cell_type": "code",
      "source": [
        "#Creating new column by using month and year."
      ],
      "metadata": {
        "id": "5eb2bWu_qKVP"
      },
      "execution_count": 81,
      "outputs": []
    },
    {
      "cell_type": "code",
      "source": [
        "df['Year/Month'] = df.apply(lambda row: f\"{row['Year']}-{row['Month']}\", axis=1)\n",
        "print(df)"
      ],
      "metadata": {
        "colab": {
          "base_uri": "https://localhost:8080/"
        },
        "id": "q_pyo1f8fSA4",
        "outputId": "d4deba23-486c-4873-a43f-48db790b0e97"
      },
      "execution_count": 82,
      "outputs": [
        {
          "output_type": "stream",
          "name": "stdout",
          "text": [
            "    ID Month  Year Transaction Type Merchant Category  Transaction Amount  \\\n",
            "0    1   Jan  2012  Online Purchase       Electronics                1200   \n",
            "1    2   Feb  2012   ATM Withdrawal         Groceries                 350   \n",
            "2    3   Mar  2012  Online Purchase             Books                  75   \n",
            "3    4   Apr  2012      POS Payment          Clothing                  50   \n",
            "4    5   May  2012  Online Purchase       Electronics                 900   \n",
            "..  ..   ...   ...              ...               ...                 ...   \n",
            "93  94   Oct  2019      POS Payment         Groceries                 310   \n",
            "94  95   Nov  2019  Online Purchase          Clothing                  70   \n",
            "95  96   Dec  2019   ATM Withdrawal             Books                  40   \n",
            "96  97   Jan  2020      POS Payment       Electronics                 910   \n",
            "97  98   Feb  2020  Online Purchase         Groceries                 230   \n",
            "\n",
            "   Card Type       Location  Distance Approvation  User's Age  \\\n",
            "0     CREDIT       NEW YORK         5    Approved          32   \n",
            "1      DEBIT    LOS ANGELES        10    Declined          45   \n",
            "2     CREDIT  SAN FRANCISCO        15    Approved          28   \n",
            "3     CREDIT        CHICAGO         2    Approved          36   \n",
            "4     CREDIT       NEW YORK         7    Approved          40   \n",
            "..       ...            ...       ...         ...         ...   \n",
            "93     DEBIT    LOS ANGELES        10    Approved          47   \n",
            "94    CREDIT        CHICAGO         4    Approved          31   \n",
            "95    CREDIT  SAN FRANCISCO        17    Declined          23   \n",
            "96    CREDIT       NEW YORK         5    Approved          32   \n",
            "97     DEBIT    LOS ANGELES        11    Approved          22   \n",
            "\n",
            "    Account Balance Fraud Year/Month  \n",
            "0            3000.0    No   2012-Jan  \n",
            "1            1500.0   Yes   2012-Feb  \n",
            "2             500.0    No   2012-Mar  \n",
            "3            2000.0    No   2012-Apr  \n",
            "4            2500.0    No   2012-May  \n",
            "..              ...   ...        ...  \n",
            "93           2000.0   Yes   2019-Oct  \n",
            "94           1100.0    No   2019-Nov  \n",
            "95            500.0    No   2019-Dec  \n",
            "96           2400.0    No   2020-Jan  \n",
            "97            700.0   Yes   2020-Feb  \n",
            "\n",
            "[98 rows x 14 columns]\n"
          ]
        }
      ]
    },
    {
      "cell_type": "code",
      "source": [
        "import matplotlib.pyplot as plt\n",
        "import seaborn as sns\n",
        "custom_palette = {\"No\": \"#9FC131\" , \"Yes\": \"#005C53\" }\n",
        "\n",
        "g=sns.catplot(y=\"Transaction Amount\",x=\"Fraud\",data=df,kind=\"box\", palette=custom_palette)\n",
        "new_y_ticks = [0,100, 200,300,400,500,600,700,800,\n",
        "               900,1000,1100,1200]  # Adjust the values as needed\n",
        "plt.yticks(new_y_ticks)\n",
        "plt.show()"
      ],
      "metadata": {
        "colab": {
          "base_uri": "https://localhost:8080/",
          "height": 506
        },
        "id": "U6-CC_uG_64k",
        "outputId": "bd6ce699-c92e-42de-8e75-554f7f4e4ef8"
      },
      "execution_count": 83,
      "outputs": [
        {
          "output_type": "display_data",
          "data": {
            "text/plain": [
              "<Figure size 500x500 with 1 Axes>"
            ],
            "image/png": "[encoded data removed]"
          },
          "metadata": {}
        }
      ]
    },
    {
      "cell_type": "code",
      "source": [
        "import pandas as pd\n",
        "import matplotlib.pyplot as plt\n",
        "\n",
        "veri = df[\"User's Age\"]\n",
        "\n",
        "condition = df[\"Fraud\"] == \"Yes\"\n",
        "\n",
        "filtered_data = df[condition]\n",
        "\n",
        "plt.hist(filtered_data[\"User's Age\"], bins=range(min(veri), max(veri) + 2, 3), color= \"#042940\", edgecolor='black')\n",
        "\n",
        "plt.title(\"Fraud User's Age\")\n",
        "plt.xlabel('Age')\n",
        "plt.ylabel('Frequency')\n",
        "\n",
        "plt.show()"
      ],
      "metadata": {
        "colab": {
          "base_uri": "https://localhost:8080/",
          "height": 472
        },
        "id": "N6OhM5eOJkC0",
        "outputId": "757b97e2-0e8e-484f-93c8-7ff5ab73cea3"
      },
      "execution_count": 84,
      "outputs": [
        {
          "output_type": "display_data",
          "data": {
            "text/plain": [
              "<Figure size 640x480 with 1 Axes>"
            ],
            "image/png": "[encoded data removed]"
          },
          "metadata": {}
        }
      ]
    },
    {
      "cell_type": "code",
      "source": [
        "fraud_transactions = df[df['Fraud'] == 'Yes']\n",
        "\n",
        "plt.figure(figsize=(10, 6))\n",
        "sns.histplot(fraud_transactions['Transaction Amount'], bins=10, kde=True, color='#042940')\n",
        "plt.title('Fraudulent Transaction Amount Distribution')\n",
        "plt.xlabel('Transaction Amount')\n",
        "plt.ylabel('Frequency')\n",
        "plt.show()"
      ],
      "metadata": {
        "colab": {
          "base_uri": "https://localhost:8080/",
          "height": 564
        },
        "id": "d9naZo6XL8Zk",
        "outputId": "fd147ca7-ee3a-40f8-c3d9-1696be1aada9"
      },
      "execution_count": 85,
      "outputs": [
        {
          "output_type": "display_data",
          "data": {
            "text/plain": [
              "<Figure size 1000x600 with 1 Axes>"
            ],
            "image/png": "[encoded data removed]"
          },
          "metadata": {}
        }
      ]
    },
    {
      "cell_type": "code",
      "source": [
        "import seaborn as sns\n",
        "import matplotlib.pyplot as plt\n",
        "\n",
        "# Count the occurrences of each combination of Transaction Type and Fraud\n",
        "fraud_distribution = df.groupby(['Transaction Type', 'Fraud']).size().reset_index(name='Count')\n",
        "\n",
        "# Define custom colors for 'No' and 'Yes'\n",
        "colors = {'No': '#005C53', 'Yes': '#9FC131'}\n",
        "\n",
        "# Create a horizontal bar plot with custom colors\n",
        "plt.figure(figsize=(12, 8))\n",
        "sns.barplot(x='Count', y='Transaction Type', hue='Fraud', data=fraud_distribution, palette=colors)\n",
        "plt.title('Distribution of Fraud Across Different Transaction Types')\n",
        "plt.xlabel('Count')\n",
        "plt.ylabel('Transaction Type')\n",
        "plt.show()\n"
      ],
      "metadata": {
        "colab": {
          "base_uri": "https://localhost:8080/",
          "height": 715
        },
        "id": "mofI6evHyXPa",
        "outputId": "2c00f414-f357-4033-c0bd-a7ecffae9434"
      },
      "execution_count": 88,
      "outputs": [
        {
          "output_type": "display_data",
          "data": {
            "text/plain": [
              "<Figure size 1200x800 with 1 Axes>"
            ],
            "image/png": "[encoded data removed]"
          },
          "metadata": {}
        }
      ]
    },
    {
      "cell_type": "code",
      "source": [
        "missing_values=[\"n/a\",\"NA\",\"na\",\"-\"]\n",
        "#df=pd.read_excel(\"Fraud-Detection.xlsx\",na_values=missing_values) na_values=missing_values is applied all columns in the DataFrame,not spesific columns.\n",
        "df[\"Location\"] = df[\"Location\"].replace(missing_values, pd.NA)\n",
        "df[\"Location\"].isnull().sum()\n",
        "\n",
        "mode=df[\"Location\"].mode()[0]#We can imput the mode to the na value.\n",
        "print(mode)#.Actually the mode doesn't make sense because all frequencies of the location are almost equal.\n",
        "df[\"Location\"].fillna(mode,inplace=True)\n",
        "\n",
        "df['Location'] = df['Location'].replace({'\"SAN FRANCISCO\"': 'SAN FRANCISCO'})\n",
        "df['Location'] = df['Location'].replace({'\"CHICAGO\"': 'CHICAGO'})\n",
        "\n",
        "df['Location'] = df['Location'].str.replace('[\"]', '').str.strip().str.upper()\n",
        "df['Location'] = df['Location'].replace({'NEWYORK': 'NEW YORK'})\n",
        "print(df[\"Location\"].value_counts())"
      ],
      "metadata": {
        "colab": {
          "base_uri": "https://localhost:8080/"
        },
        "id": "PKNtJEsByq5N",
        "outputId": "8c64d959-f645-4d41-a410-ae386dc8f888"
      },
      "execution_count": 87,
      "outputs": [
        {
          "output_type": "stream",
          "name": "stdout",
          "text": [
            "LOS ANGELES\n",
            "LOS ANGELES      26\n",
            "NEW YORK         25\n",
            "CHICAGO          24\n",
            "SAN FRANCISCO    23\n",
            "Name: Location, dtype: int64\n"
          ]
        },
        {
          "output_type": "stream",
          "name": "stderr",
          "text": [
            "<ipython-input-87-6a6b57000819>:13: FutureWarning: The default value of regex will change from True to False in a future version.\n",
            "  df['Location'] = df['Location'].str.replace('[\"]', '').str.strip().str.upper()\n"
          ]
        }
      ]
    },
    {
      "cell_type": "code",
      "source": [
        "grouped_data = df[df['Fraud'] == 'Yes'].groupby(['Year', 'Location']).size().unstack().fillna(0)\n",
        "\n",
        "# Renk kodları\n",
        "colors = {'CHICAGO': '#042940', 'SAN FRANCISCO': '#005C53', 'NEW YORK': '#9FC131', 'LOS ANGELES': '#DBF227'}\n",
        "\n",
        "# Plot\n",
        "locations = grouped_data.columns\n",
        "years = grouped_data.index\n",
        "\n",
        "bottom = None\n",
        "for i, location in enumerate(locations):\n",
        "    plt.bar(years, grouped_data[location], bottom=bottom, color=colors[location], label=location)\n",
        "    if bottom is None:\n",
        "        bottom = grouped_data[location]\n",
        "    else:\n",
        "        bottom += grouped_data[location]\n",
        "\n",
        "plt.xlabel(\"Years\")\n",
        "plt.ylabel(\"Fraud Counts\")\n",
        "plt.xticks(years)  # Y ekseninde tüm yılları göster\n",
        "plt.legend(title='Location')\n",
        "plt.title(\"CITY-WISE FRAUD FREQUENCY OVER THE YEARS\")\n",
        "plt.show()"
      ],
      "metadata": {
        "id": "qTvCeQcoznuo"
      },
      "execution_count": null,
      "outputs": []
    }
  ]
}